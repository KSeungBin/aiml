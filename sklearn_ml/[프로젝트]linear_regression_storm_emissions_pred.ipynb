{
 "cells": [
  {
   "cell_type": "code",
   "execution_count": 1,
   "metadata": {
    "id": "O9M0aNWU8PVV"
   },
   "outputs": [],
   "source": [
    "import numpy as np\n",
    "import pandas as pd\n",
    "import matplotlib.pyplot as plt\n",
    "import seaborn as sns\n",
    "from sklearn.linear_model import LinearRegression\n",
    "from sklearn.model_selection import train_test_split \n",
    "from sklearn.metrics import mean_squared_error   "
   ]
  },
  {
   "cell_type": "code",
   "execution_count": 2,
   "metadata": {
    "id": "3pVhYf_y87fv"
   },
   "outputs": [],
   "source": [
    "# read weight-height dataset\n",
    "data = \"./data/merge.csv\"\n",
    "df_storm = pd.read_csv(data)\n"
   ]
  },
  {
   "cell_type": "code",
   "execution_count": 3,
   "metadata": {
    "colab": {
     "base_uri": "https://localhost:8080/",
     "height": 206
    },
    "executionInfo": {
     "elapsed": 473,
     "status": "ok",
     "timestamp": 1633086045680,
     "user": {
      "displayName": "경하김",
      "photoUrl": "https://lh3.googleusercontent.com/a/default-user=s64",
      "userId": "00010385631009285573"
     },
     "user_tz": -540
    },
    "id": "PAIxIGACDjV3",
    "outputId": "06b000c8-1f93-49cb-9bf8-82f731f0be2d"
   },
   "outputs": [
    {
     "data": {
      "text/html": [
       "<div>\n",
       "<style scoped>\n",
       "    .dataframe tbody tr th:only-of-type {\n",
       "        vertical-align: middle;\n",
       "    }\n",
       "\n",
       "    .dataframe tbody tr th {\n",
       "        vertical-align: top;\n",
       "    }\n",
       "\n",
       "    .dataframe thead th {\n",
       "        text-align: right;\n",
       "    }\n",
       "</style>\n",
       "<table border=\"1\" class=\"dataframe\">\n",
       "  <thead>\n",
       "    <tr style=\"text-align: right;\">\n",
       "      <th></th>\n",
       "      <th>Unnamed: 0</th>\n",
       "      <th>Year</th>\n",
       "      <th>Named Storms</th>\n",
       "      <th>Named Storm Days</th>\n",
       "      <th>Hurricanes</th>\n",
       "      <th>Hurricanes Days</th>\n",
       "      <th>Cat. 3+ Hurricanes</th>\n",
       "      <th>Cat. 3+ Hurricanes Days ▴</th>\n",
       "      <th>Accumulated Cyclone Energy</th>\n",
       "      <th>fossil emissions excluding carbonation</th>\n",
       "      <th>land-use change emissions</th>\n",
       "      <th>atmospheric growth</th>\n",
       "      <th>ocean sink</th>\n",
       "      <th>land sink</th>\n",
       "      <th>cement carbonation sink</th>\n",
       "      <th>budget imbalance</th>\n",
       "    </tr>\n",
       "  </thead>\n",
       "  <tbody>\n",
       "    <tr>\n",
       "      <th>0</th>\n",
       "      <td>0</td>\n",
       "      <td>1980.0</td>\n",
       "      <td>68.0</td>\n",
       "      <td>289.50</td>\n",
       "      <td>38.0</td>\n",
       "      <td>107.75</td>\n",
       "      <td>15.0</td>\n",
       "      <td>19.50</td>\n",
       "      <td>527.1</td>\n",
       "      <td>5.320036</td>\n",
       "      <td>1.130973</td>\n",
       "      <td>3.63204</td>\n",
       "      <td>1.666825</td>\n",
       "      <td>0.454118</td>\n",
       "      <td>0.043861</td>\n",
       "      <td>0.654166</td>\n",
       "    </tr>\n",
       "    <tr>\n",
       "      <th>1</th>\n",
       "      <td>1</td>\n",
       "      <td>1981.0</td>\n",
       "      <td>72.0</td>\n",
       "      <td>309.00</td>\n",
       "      <td>39.0</td>\n",
       "      <td>113.25</td>\n",
       "      <td>16.0</td>\n",
       "      <td>27.75</td>\n",
       "      <td>569.1</td>\n",
       "      <td>5.192934</td>\n",
       "      <td>1.177646</td>\n",
       "      <td>2.46384</td>\n",
       "      <td>1.666857</td>\n",
       "      <td>2.241176</td>\n",
       "      <td>0.044741</td>\n",
       "      <td>-0.046034</td>\n",
       "    </tr>\n",
       "    <tr>\n",
       "      <th>2</th>\n",
       "      <td>2</td>\n",
       "      <td>1982.0</td>\n",
       "      <td>74.0</td>\n",
       "      <td>314.25</td>\n",
       "      <td>39.0</td>\n",
       "      <td>119.25</td>\n",
       "      <td>18.0</td>\n",
       "      <td>31.00</td>\n",
       "      <td>571.0</td>\n",
       "      <td>5.151681</td>\n",
       "      <td>1.155482</td>\n",
       "      <td>2.08152</td>\n",
       "      <td>1.815808</td>\n",
       "      <td>1.540000</td>\n",
       "      <td>0.045586</td>\n",
       "      <td>0.824249</td>\n",
       "    </tr>\n",
       "    <tr>\n",
       "      <th>3</th>\n",
       "      <td>3</td>\n",
       "      <td>1983.0</td>\n",
       "      <td>74.0</td>\n",
       "      <td>332.00</td>\n",
       "      <td>39.0</td>\n",
       "      <td>119.50</td>\n",
       "      <td>19.0</td>\n",
       "      <td>33.25</td>\n",
       "      <td>577.1</td>\n",
       "      <td>5.185052</td>\n",
       "      <td>1.272159</td>\n",
       "      <td>3.92940</td>\n",
       "      <td>1.954881</td>\n",
       "      <td>0.291176</td>\n",
       "      <td>0.047107</td>\n",
       "      <td>0.234647</td>\n",
       "    </tr>\n",
       "    <tr>\n",
       "      <th>4</th>\n",
       "      <td>4</td>\n",
       "      <td>1984.0</td>\n",
       "      <td>75.0</td>\n",
       "      <td>334.00</td>\n",
       "      <td>39.0</td>\n",
       "      <td>121.50</td>\n",
       "      <td>19.0</td>\n",
       "      <td>33.75</td>\n",
       "      <td>580.2</td>\n",
       "      <td>5.364824</td>\n",
       "      <td>1.411811</td>\n",
       "      <td>2.61252</td>\n",
       "      <td>1.840391</td>\n",
       "      <td>2.670000</td>\n",
       "      <td>0.048557</td>\n",
       "      <td>-0.394832</td>\n",
       "    </tr>\n",
       "  </tbody>\n",
       "</table>\n",
       "</div>"
      ],
      "text/plain": [
       "   Unnamed: 0    Year  Named Storms  Named Storm Days  Hurricanes  \\\n",
       "0           0  1980.0          68.0            289.50        38.0   \n",
       "1           1  1981.0          72.0            309.00        39.0   \n",
       "2           2  1982.0          74.0            314.25        39.0   \n",
       "3           3  1983.0          74.0            332.00        39.0   \n",
       "4           4  1984.0          75.0            334.00        39.0   \n",
       "\n",
       "   Hurricanes Days  Cat. 3+ Hurricanes  Cat. 3+ Hurricanes Days ▴  \\\n",
       "0           107.75                15.0                      19.50   \n",
       "1           113.25                16.0                      27.75   \n",
       "2           119.25                18.0                      31.00   \n",
       "3           119.50                19.0                      33.25   \n",
       "4           121.50                19.0                      33.75   \n",
       "\n",
       "   Accumulated Cyclone Energy  fossil emissions excluding carbonation  \\\n",
       "0                       527.1                                5.320036   \n",
       "1                       569.1                                5.192934   \n",
       "2                       571.0                                5.151681   \n",
       "3                       577.1                                5.185052   \n",
       "4                       580.2                                5.364824   \n",
       "\n",
       "   land-use change emissions  atmospheric growth  ocean sink  land sink  \\\n",
       "0                   1.130973             3.63204    1.666825   0.454118   \n",
       "1                   1.177646             2.46384    1.666857   2.241176   \n",
       "2                   1.155482             2.08152    1.815808   1.540000   \n",
       "3                   1.272159             3.92940    1.954881   0.291176   \n",
       "4                   1.411811             2.61252    1.840391   2.670000   \n",
       "\n",
       "   cement carbonation sink  budget imbalance  \n",
       "0                 0.043861          0.654166  \n",
       "1                 0.044741         -0.046034  \n",
       "2                 0.045586          0.824249  \n",
       "3                 0.047107          0.234647  \n",
       "4                 0.048557         -0.394832  "
      ]
     },
     "execution_count": 3,
     "metadata": {},
     "output_type": "execute_result"
    }
   ],
   "source": [
    "df_storm.head()"
   ]
  },
  {
   "cell_type": "code",
   "execution_count": 4,
   "metadata": {
    "colab": {
     "base_uri": "https://localhost:8080/"
    },
    "executionInfo": {
     "elapsed": 266,
     "status": "ok",
     "timestamp": 1633086054818,
     "user": {
      "displayName": "경하김",
      "photoUrl": "https://lh3.googleusercontent.com/a/default-user=s64",
      "userId": "00010385631009285573"
     },
     "user_tz": -540
    },
    "id": "wII69uCyD6S6",
    "outputId": "1d2c6e22-3e45-4e5b-f49f-0c081bdfa6f2"
   },
   "outputs": [
    {
     "name": "stdout",
     "output_type": "stream",
     "text": [
      "<class 'pandas.core.frame.DataFrame'>\n",
      "RangeIndex: 41 entries, 0 to 40\n",
      "Data columns (total 16 columns):\n",
      " #   Column                                  Non-Null Count  Dtype  \n",
      "---  ------                                  --------------  -----  \n",
      " 0   Unnamed: 0                              41 non-null     int64  \n",
      " 1   Year                                    41 non-null     float64\n",
      " 2   Named Storms                            41 non-null     float64\n",
      " 3   Named Storm Days                        41 non-null     float64\n",
      " 4   Hurricanes                              41 non-null     float64\n",
      " 5   Hurricanes Days                         41 non-null     float64\n",
      " 6   Cat. 3+ Hurricanes                      41 non-null     float64\n",
      " 7   Cat. 3+ Hurricanes Days ▴               41 non-null     float64\n",
      " 8   Accumulated Cyclone Energy              41 non-null     float64\n",
      " 9   fossil emissions excluding carbonation  41 non-null     float64\n",
      " 10  land-use change emissions               41 non-null     float64\n",
      " 11  atmospheric growth                      41 non-null     float64\n",
      " 12  ocean sink                              41 non-null     float64\n",
      " 13  land sink                               41 non-null     float64\n",
      " 14  cement carbonation sink                 41 non-null     float64\n",
      " 15  budget imbalance                        41 non-null     float64\n",
      "dtypes: float64(15), int64(1)\n",
      "memory usage: 5.2 KB\n"
     ]
    }
   ],
   "source": [
    "df_storm.info()"
   ]
  },
  {
   "cell_type": "code",
   "execution_count": 5,
   "metadata": {
    "colab": {
     "base_uri": "https://localhost:8080/",
     "height": 300
    },
    "executionInfo": {
     "elapsed": 279,
     "status": "ok",
     "timestamp": 1633086062962,
     "user": {
      "displayName": "경하김",
      "photoUrl": "https://lh3.googleusercontent.com/a/default-user=s64",
      "userId": "00010385631009285573"
     },
     "user_tz": -540
    },
    "id": "p4mGV03PD6t9",
    "outputId": "0a583112-2bf3-4038-b421-48511267a86f"
   },
   "outputs": [
    {
     "data": {
      "text/html": [
       "<div>\n",
       "<style scoped>\n",
       "    .dataframe tbody tr th:only-of-type {\n",
       "        vertical-align: middle;\n",
       "    }\n",
       "\n",
       "    .dataframe tbody tr th {\n",
       "        vertical-align: top;\n",
       "    }\n",
       "\n",
       "    .dataframe thead th {\n",
       "        text-align: right;\n",
       "    }\n",
       "</style>\n",
       "<table border=\"1\" class=\"dataframe\">\n",
       "  <thead>\n",
       "    <tr style=\"text-align: right;\">\n",
       "      <th></th>\n",
       "      <th>Unnamed: 0</th>\n",
       "      <th>Year</th>\n",
       "      <th>Named Storms</th>\n",
       "      <th>Named Storm Days</th>\n",
       "      <th>Hurricanes</th>\n",
       "      <th>Hurricanes Days</th>\n",
       "      <th>Cat. 3+ Hurricanes</th>\n",
       "      <th>Cat. 3+ Hurricanes Days ▴</th>\n",
       "      <th>Accumulated Cyclone Energy</th>\n",
       "      <th>fossil emissions excluding carbonation</th>\n",
       "      <th>land-use change emissions</th>\n",
       "      <th>atmospheric growth</th>\n",
       "      <th>ocean sink</th>\n",
       "      <th>land sink</th>\n",
       "      <th>cement carbonation sink</th>\n",
       "      <th>budget imbalance</th>\n",
       "    </tr>\n",
       "  </thead>\n",
       "  <tbody>\n",
       "    <tr>\n",
       "      <th>count</th>\n",
       "      <td>41.000000</td>\n",
       "      <td>41.000000</td>\n",
       "      <td>41.000000</td>\n",
       "      <td>41.000000</td>\n",
       "      <td>41.000000</td>\n",
       "      <td>41.000000</td>\n",
       "      <td>41.000000</td>\n",
       "      <td>41.000000</td>\n",
       "      <td>41.000000</td>\n",
       "      <td>41.000000</td>\n",
       "      <td>41.000000</td>\n",
       "      <td>41.000000</td>\n",
       "      <td>41.000000</td>\n",
       "      <td>41.000000</td>\n",
       "      <td>41.000000</td>\n",
       "      <td>41.000000</td>\n",
       "    </tr>\n",
       "    <tr>\n",
       "      <th>mean</th>\n",
       "      <td>20.000000</td>\n",
       "      <td>2000.000000</td>\n",
       "      <td>85.926829</td>\n",
       "      <td>407.932927</td>\n",
       "      <td>47.170732</td>\n",
       "      <td>165.908537</td>\n",
       "      <td>23.804878</td>\n",
       "      <td>52.908537</td>\n",
       "      <td>762.539024</td>\n",
       "      <td>7.418460</td>\n",
       "      <td>1.228020</td>\n",
       "      <td>3.932508</td>\n",
       "      <td>2.199761</td>\n",
       "      <td>2.455581</td>\n",
       "      <td>0.109549</td>\n",
       "      <td>-0.050920</td>\n",
       "    </tr>\n",
       "    <tr>\n",
       "      <th>std</th>\n",
       "      <td>11.979149</td>\n",
       "      <td>11.979149</td>\n",
       "      <td>8.370753</td>\n",
       "      <td>65.051855</td>\n",
       "      <td>5.978722</td>\n",
       "      <td>36.175732</td>\n",
       "      <td>4.776084</td>\n",
       "      <td>19.714823</td>\n",
       "      <td>166.516493</td>\n",
       "      <td>1.650006</td>\n",
       "      <td>0.150269</td>\n",
       "      <td>1.272784</td>\n",
       "      <td>0.398496</td>\n",
       "      <td>0.894818</td>\n",
       "      <td>0.058549</td>\n",
       "      <td>0.761853</td>\n",
       "    </tr>\n",
       "    <tr>\n",
       "      <th>min</th>\n",
       "      <td>0.000000</td>\n",
       "      <td>1980.000000</td>\n",
       "      <td>68.000000</td>\n",
       "      <td>289.500000</td>\n",
       "      <td>38.000000</td>\n",
       "      <td>107.750000</td>\n",
       "      <td>15.000000</td>\n",
       "      <td>19.500000</td>\n",
       "      <td>527.100000</td>\n",
       "      <td>5.151681</td>\n",
       "      <td>0.876090</td>\n",
       "      <td>1.508040</td>\n",
       "      <td>1.666825</td>\n",
       "      <td>0.291176</td>\n",
       "      <td>0.043861</td>\n",
       "      <td>-1.810323</td>\n",
       "    </tr>\n",
       "    <tr>\n",
       "      <th>25%</th>\n",
       "      <td>10.000000</td>\n",
       "      <td>1990.000000</td>\n",
       "      <td>79.000000</td>\n",
       "      <td>358.000000</td>\n",
       "      <td>43.000000</td>\n",
       "      <td>138.500000</td>\n",
       "      <td>21.000000</td>\n",
       "      <td>37.750000</td>\n",
       "      <td>634.200000</td>\n",
       "      <td>6.159832</td>\n",
       "      <td>1.149587</td>\n",
       "      <td>2.846160</td>\n",
       "      <td>1.871353</td>\n",
       "      <td>2.071765</td>\n",
       "      <td>0.058077</td>\n",
       "      <td>-0.529360</td>\n",
       "    </tr>\n",
       "    <tr>\n",
       "      <th>50%</th>\n",
       "      <td>20.000000</td>\n",
       "      <td>2000.000000</td>\n",
       "      <td>86.000000</td>\n",
       "      <td>404.000000</td>\n",
       "      <td>47.000000</td>\n",
       "      <td>163.500000</td>\n",
       "      <td>24.000000</td>\n",
       "      <td>45.750000</td>\n",
       "      <td>731.900000</td>\n",
       "      <td>6.887065</td>\n",
       "      <td>1.236147</td>\n",
       "      <td>3.908160</td>\n",
       "      <td>2.129744</td>\n",
       "      <td>2.630000</td>\n",
       "      <td>0.086773</td>\n",
       "      <td>-0.109329</td>\n",
       "    </tr>\n",
       "    <tr>\n",
       "      <th>75%</th>\n",
       "      <td>30.000000</td>\n",
       "      <td>2010.000000</td>\n",
       "      <td>91.000000</td>\n",
       "      <td>447.750000</td>\n",
       "      <td>51.000000</td>\n",
       "      <td>179.750000</td>\n",
       "      <td>27.000000</td>\n",
       "      <td>61.500000</td>\n",
       "      <td>846.300000</td>\n",
       "      <td>9.100246</td>\n",
       "      <td>1.301011</td>\n",
       "      <td>5.055120</td>\n",
       "      <td>2.448430</td>\n",
       "      <td>3.107059</td>\n",
       "      <td>0.157597</td>\n",
       "      <td>0.524893</td>\n",
       "    </tr>\n",
       "    <tr>\n",
       "      <th>max</th>\n",
       "      <td>40.000000</td>\n",
       "      <td>2020.000000</td>\n",
       "      <td>103.000000</td>\n",
       "      <td>570.500000</td>\n",
       "      <td>59.000000</td>\n",
       "      <td>263.750000</td>\n",
       "      <td>39.000000</td>\n",
       "      <td>96.000000</td>\n",
       "      <td>1198.400000</td>\n",
       "      <td>10.017059</td>\n",
       "      <td>1.820590</td>\n",
       "      <td>6.265800</td>\n",
       "      <td>2.994931</td>\n",
       "      <td>3.941176</td>\n",
       "      <td>0.218774</td>\n",
       "      <td>1.810464</td>\n",
       "    </tr>\n",
       "  </tbody>\n",
       "</table>\n",
       "</div>"
      ],
      "text/plain": [
       "       Unnamed: 0         Year  Named Storms  Named Storm Days  Hurricanes  \\\n",
       "count   41.000000    41.000000     41.000000         41.000000   41.000000   \n",
       "mean    20.000000  2000.000000     85.926829        407.932927   47.170732   \n",
       "std     11.979149    11.979149      8.370753         65.051855    5.978722   \n",
       "min      0.000000  1980.000000     68.000000        289.500000   38.000000   \n",
       "25%     10.000000  1990.000000     79.000000        358.000000   43.000000   \n",
       "50%     20.000000  2000.000000     86.000000        404.000000   47.000000   \n",
       "75%     30.000000  2010.000000     91.000000        447.750000   51.000000   \n",
       "max     40.000000  2020.000000    103.000000        570.500000   59.000000   \n",
       "\n",
       "       Hurricanes Days  Cat. 3+ Hurricanes  Cat. 3+ Hurricanes Days ▴  \\\n",
       "count        41.000000           41.000000                  41.000000   \n",
       "mean        165.908537           23.804878                  52.908537   \n",
       "std          36.175732            4.776084                  19.714823   \n",
       "min         107.750000           15.000000                  19.500000   \n",
       "25%         138.500000           21.000000                  37.750000   \n",
       "50%         163.500000           24.000000                  45.750000   \n",
       "75%         179.750000           27.000000                  61.500000   \n",
       "max         263.750000           39.000000                  96.000000   \n",
       "\n",
       "       Accumulated Cyclone Energy  fossil emissions excluding carbonation  \\\n",
       "count                   41.000000                               41.000000   \n",
       "mean                   762.539024                                7.418460   \n",
       "std                    166.516493                                1.650006   \n",
       "min                    527.100000                                5.151681   \n",
       "25%                    634.200000                                6.159832   \n",
       "50%                    731.900000                                6.887065   \n",
       "75%                    846.300000                                9.100246   \n",
       "max                   1198.400000                               10.017059   \n",
       "\n",
       "       land-use change emissions  atmospheric growth  ocean sink  land sink  \\\n",
       "count                  41.000000           41.000000   41.000000  41.000000   \n",
       "mean                    1.228020            3.932508    2.199761   2.455581   \n",
       "std                     0.150269            1.272784    0.398496   0.894818   \n",
       "min                     0.876090            1.508040    1.666825   0.291176   \n",
       "25%                     1.149587            2.846160    1.871353   2.071765   \n",
       "50%                     1.236147            3.908160    2.129744   2.630000   \n",
       "75%                     1.301011            5.055120    2.448430   3.107059   \n",
       "max                     1.820590            6.265800    2.994931   3.941176   \n",
       "\n",
       "       cement carbonation sink  budget imbalance  \n",
       "count                41.000000         41.000000  \n",
       "mean                  0.109549         -0.050920  \n",
       "std                   0.058549          0.761853  \n",
       "min                   0.043861         -1.810323  \n",
       "25%                   0.058077         -0.529360  \n",
       "50%                   0.086773         -0.109329  \n",
       "75%                   0.157597          0.524893  \n",
       "max                   0.218774          1.810464  "
      ]
     },
     "execution_count": 5,
     "metadata": {},
     "output_type": "execute_result"
    }
   ],
   "source": [
    "df_storm.describe() "
   ]
  },
  {
   "cell_type": "code",
   "execution_count": 6,
   "metadata": {
    "colab": {
     "base_uri": "https://localhost:8080/",
     "height": 279
    },
    "executionInfo": {
     "elapsed": 827,
     "status": "ok",
     "timestamp": 1633086072882,
     "user": {
      "displayName": "경하김",
      "photoUrl": "https://lh3.googleusercontent.com/a/default-user=s64",
      "userId": "00010385631009285573"
     },
     "user_tz": -540
    },
    "id": "VnzWJPSiD8Qc",
    "outputId": "c95d45b2-ce78-4f9d-ef02-bb2669f1a280"
   },
   "outputs": [
    {
     "data": {
      "image/png": "[encoded data removed]",
      "text/plain": [
       "<Figure size 432x288 with 1 Axes>"
      ]
     },
     "metadata": {
      "needs_background": "light"
     },
     "output_type": "display_data"
    }
   ],
   "source": [
    "# 입력데이터와 정답데이터를 분리\n",
    "X1 = df_storm['fossil emissions excluding carbonation']  \n",
    "y1 = df_storm['Cat. 3+ Hurricanes Days ▴']\n",
    "\n",
    "\n",
    "# seaborn으로 다음의 차트가 그려보세요.\n",
    "sns.scatterplot( x = X1, y = y1) \n",
    "plt.show()                     "
   ]
  },
  {
   "cell_type": "code",
   "execution_count": 7,
   "metadata": {},
   "outputs": [
    {
     "data": {
      "image/png": "[encoded data removed]",
      "text/plain": [
       "<Figure size 432x288 with 1 Axes>"
      ]
     },
     "metadata": {
      "needs_background": "light"
     },
     "output_type": "display_data"
    }
   ],
   "source": [
    "X2 = df_storm['Year'] \n",
    "y2 = df_storm['fossil emissions excluding carbonation'] \n",
    "\n",
    "sns.scatterplot(x = X2, y = y2)\n",
    "plt.show()"
   ]
  },
  {
   "cell_type": "code",
   "execution_count": 8,
   "metadata": {},
   "outputs": [
    {
     "data": {
      "image/png": "[encoded data removed]",
      "text/plain": [
       "<Figure size 432x288 with 1 Axes>"
      ]
     },
     "metadata": {
      "needs_background": "light"
     },
     "output_type": "display_data"
    }
   ],
   "source": [
    "X2 = df_storm['Year'] \n",
    "y2 = df_storm['Cat. 3+ Hurricanes Days ▴'] \n",
    "\n",
    "sns.scatterplot(x = X2, y = y2)\n",
    "plt.show()"
   ]
  },
  {
   "cell_type": "code",
   "execution_count": null,
   "metadata": {},
   "outputs": [],
   "source": []
  },
  {
   "cell_type": "code",
   "execution_count": 9,
   "metadata": {
    "id": "H0pIc_XWD9kX"
   },
   "outputs": [],
   "source": [
    "# 머신러닝 학습을 위해 80%는 트레이닝 데이터, 20%는 테스트 데이터로 나눔\n",
    "X1_train, X1_test, y1_train, y1_test = train_test_split(X1,y1, test_size = 0.2, random_state=20, shuffle=True)"
   ]
  },
  {
   "cell_type": "code",
   "execution_count": 10,
   "metadata": {},
   "outputs": [],
   "source": [
    "X2_train, X2_test, y2_train, y2_test = train_test_split(X2,y2, test_size = 0.2, random_state=20, shuffle=True)"
   ]
  },
  {
   "cell_type": "markdown",
   "metadata": {},
   "source": [
    "# 모델 생성 및 학습"
   ]
  },
  {
   "cell_type": "code",
   "execution_count": 11,
   "metadata": {
    "id": "C1SjqfJOD_LO"
   },
   "outputs": [
    {
     "data": {
      "text/plain": [
       "LinearRegression()"
      ]
     },
     "execution_count": 11,
     "metadata": {},
     "output_type": "execute_result"
    }
   ],
   "source": [
    "# 선형회귀(Linear Regression) 모델 선언하기\n",
    "model_lr1 = LinearRegression() # estimator(클래스)에 대한 객체 생성\n",
    "model_lr1"
   ]
  },
  {
   "cell_type": "code",
   "execution_count": 12,
   "metadata": {},
   "outputs": [
    {
     "data": {
      "text/plain": [
       "LinearRegression()"
      ]
     },
     "execution_count": 12,
     "metadata": {},
     "output_type": "execute_result"
    }
   ],
   "source": [
    "model_lr2 = LinearRegression() \n",
    "model_lr2"
   ]
  },
  {
   "cell_type": "code",
   "execution_count": 13,
   "metadata": {
    "colab": {
     "base_uri": "https://localhost:8080/"
    },
    "executionInfo": {
     "elapsed": 256,
     "status": "ok",
     "timestamp": 1633086079763,
     "user": {
      "displayName": "경하김",
      "photoUrl": "https://lh3.googleusercontent.com/a/default-user=s64",
      "userId": "00010385631009285573"
     },
     "user_tz": -540
    },
    "id": "evwRyUB8JfxL",
    "outputId": "1514fd4a-5714-493f-815a-54f10a6b0d99"
   },
   "outputs": [
    {
     "data": {
      "text/plain": [
       "LinearRegression()"
      ]
     },
     "execution_count": 13,
     "metadata": {},
     "output_type": "execute_result"
    }
   ],
   "source": [
    "# 선형회귀(Linear Regression) 모델 학습하기\n",
    "# reshape 부분을 유의! 2차원 이상으로 넣어야함.(차원 = 축 따라서,column 하나여도 2차원일 수 있다 ex) [[1],[2],...[10]])\n",
    "model_lr1.fit(X1_train.values.reshape(-1,1), y1_train)\n"
   ]
  },
  {
   "cell_type": "code",
   "execution_count": 14,
   "metadata": {},
   "outputs": [
    {
     "data": {
      "text/plain": [
       "LinearRegression()"
      ]
     },
     "execution_count": 14,
     "metadata": {},
     "output_type": "execute_result"
    }
   ],
   "source": [
    "model_lr2.fit(X2_train.values.reshape(-1,1), y2_train)"
   ]
  },
  {
   "cell_type": "markdown",
   "metadata": {
    "id": "gCEagjImhDVJ"
   },
   "source": [
    "### 테스트시 reshape(-1,1)로 차원을 바꿔 주는 이유\n",
    "- [키, 성별, bmi]\n",
    "-  학습기는 기본적으로 feature 2개 이상의 input이 들어간다고 가정하고 만들어뒀다.(2차원 array)\n",
    "-  현재 키(height)만 있음."
   ]
  },
  {
   "cell_type": "code",
   "execution_count": 15,
   "metadata": {
    "id": "LXVRto2TJg1V"
   },
   "outputs": [],
   "source": [
    "# 테스트 데이터에 대한 예측을 수행\n",
    "# 예측을 위해서도 X_test 데이터를 2차원으로 바꿔서 넣어야 함.\n",
    "y1_pred = model_lr1.predict(X1_test.values.reshape(-1,1))\n",
    "# model_lr.predict(X_test.values.reshape(-1,1)) 결과값을 y_test와 비교해서 error 합산값을 산출해야 한다\n",
    "# 위처럼 결과값을 다른 곳에 사용하려면 변수(y_pred)에 저장해야 함"
   ]
  },
  {
   "cell_type": "code",
   "execution_count": 16,
   "metadata": {
    "colab": {
     "base_uri": "https://localhost:8080/"
    },
    "executionInfo": {
     "elapsed": 264,
     "status": "ok",
     "timestamp": 1633086331290,
     "user": {
      "displayName": "경하김",
      "photoUrl": "https://lh3.googleusercontent.com/a/default-user=s64",
      "userId": "00010385631009285573"
     },
     "user_tz": -540
    },
    "id": "07ozd8RxIbta",
    "outputId": "958d763b-e6c3-4ca4-af62-6faddca542c2"
   },
   "outputs": [
    {
     "data": {
      "text/plain": [
       "array([28.8890339 , 77.44675678, 43.16465178, 26.9529439 , 38.5625518 ,\n",
       "       76.92589984, 75.46334558, 39.05775278, 26.86416807])"
      ]
     },
     "execution_count": 16,
     "metadata": {},
     "output_type": "execute_result"
    }
   ],
   "source": [
    "y1_pred"
   ]
  },
  {
   "cell_type": "code",
   "execution_count": 17,
   "metadata": {},
   "outputs": [],
   "source": [
    "y2_pred = model_lr2.predict(X2_test.values.reshape(-1,1))"
   ]
  },
  {
   "cell_type": "code",
   "execution_count": 18,
   "metadata": {},
   "outputs": [
    {
     "data": {
      "text/plain": [
       "array([26.94525052, 77.40111392, 47.44294503, 22.21501333, 41.1359621 ,\n",
       "       72.67087673, 83.70809685, 42.71270783, 25.36850479])"
      ]
     },
     "execution_count": 18,
     "metadata": {},
     "output_type": "execute_result"
    }
   ],
   "source": [
    "y2_pred"
   ]
  },
  {
   "cell_type": "code",
   "execution_count": 19,
   "metadata": {
    "colab": {
     "base_uri": "https://localhost:8080/"
    },
    "executionInfo": {
     "elapsed": 244,
     "status": "ok",
     "timestamp": 1633087191927,
     "user": {
      "displayName": "경하김",
      "photoUrl": "https://lh3.googleusercontent.com/a/default-user=s64",
      "userId": "00010385631009285573"
     },
     "user_tz": -540
    },
    "id": "65CF13AQc5Kc",
    "outputId": "ee6c4987-cbe9-4a0d-f8cf-096c92bc3f8e"
   },
   "outputs": [
    {
     "name": "stdout",
     "output_type": "stream",
     "text": [
      "[5.36482447 9.67588955 6.6322463  5.192934   6.22366139 9.62964668\n",
      " 9.49979779 6.26762646 5.18505228]\n",
      "[[5.36482447]\n",
      " [9.67588955]\n",
      " [6.6322463 ]\n",
      " [5.192934  ]\n",
      " [6.22366139]\n",
      " [9.62964668]\n",
      " [9.49979779]\n",
      " [6.26762646]\n",
      " [5.18505228]]\n"
     ]
    }
   ],
   "source": [
    "#print(type(X_test))\n",
    "print(X1_test.values)   # 1차원\n",
    "print(X1_test.values.reshape(-1,1)) # 2차원"
   ]
  },
  {
   "cell_type": "code",
   "execution_count": 20,
   "metadata": {},
   "outputs": [
    {
     "name": "stdout",
     "output_type": "stream",
     "text": [
      "[1984. 2016. 1997. 1981. 1993. 2013. 2020. 1994. 1983.]\n",
      "[[1984.]\n",
      " [2016.]\n",
      " [1997.]\n",
      " [1981.]\n",
      " [1993.]\n",
      " [2013.]\n",
      " [2020.]\n",
      " [1994.]\n",
      " [1983.]]\n"
     ]
    }
   ],
   "source": [
    "print(X2_test.values)  \n",
    "print(X2_test.values.reshape(-1,1))"
   ]
  },
  {
   "cell_type": "code",
   "execution_count": 21,
   "metadata": {
    "colab": {
     "base_uri": "https://localhost:8080/"
    },
    "executionInfo": {
     "elapsed": 245,
     "status": "ok",
     "timestamp": 1633087143014,
     "user": {
      "displayName": "경하김",
      "photoUrl": "https://lh3.googleusercontent.com/a/default-user=s64",
      "userId": "00010385631009285573"
     },
     "user_tz": -540
    },
    "id": "Juuhn6nKciMp",
    "outputId": "c7ee20b3-04b5-4b2a-bbfa-af1f244c36f1"
   },
   "outputs": [
    {
     "data": {
      "text/plain": [
       "array([107.35928282])"
      ]
     },
     "execution_count": 21,
     "metadata": {},
     "output_type": "execute_result"
    }
   ],
   "source": [
    "# 2030년의 탄소 배출량 예측하기\n",
    "emission_estimate= pd.Series([2035])\n",
    "model_lr2.predict(emission_estimate.values.reshape(-1,1))"
   ]
  },
  {
   "cell_type": "code",
   "execution_count": 22,
   "metadata": {
    "colab": {
     "base_uri": "https://localhost:8080/"
    },
    "executionInfo": {
     "elapsed": 260,
     "status": "ok",
     "timestamp": 1633086369090,
     "user": {
      "displayName": "경하김",
      "photoUrl": "https://lh3.googleusercontent.com/a/default-user=s64",
      "userId": "00010385631009285573"
     },
     "user_tz": -540
    },
    "id": "Jr8djMHmEA6t",
    "outputId": "34e72ef4-261e-465a-8175-f1fe814efef9"
   },
   "outputs": [
    {
     "data": {
      "text/plain": [
       "array([106.17755157])"
      ]
     },
     "execution_count": 22,
     "metadata": {},
     "output_type": "execute_result"
    }
   ],
   "source": [
    "# 2030년의 탄소 배출량에 따른 태풍 일수 예측하기\n",
    "hurr_days = pd.Series([12.22667485])\n",
    "model_lr1.predict(hurr_days.values.reshape(-1,1))"
   ]
  },
  {
   "cell_type": "markdown",
   "metadata": {},
   "source": [
    "# 성능 평가"
   ]
  },
  {
   "cell_type": "code",
   "execution_count": 23,
   "metadata": {
    "colab": {
     "base_uri": "https://localhost:8080/"
    },
    "executionInfo": {
     "elapsed": 255,
     "status": "ok",
     "timestamp": 1633086400308,
     "user": {
      "displayName": "경하김",
      "photoUrl": "https://lh3.googleusercontent.com/a/default-user=s64",
      "userId": "00010385631009285573"
     },
     "user_tz": -540
    },
    "id": "PqfrN29FEDH8",
    "outputId": "ed8178ba-69b1-432b-c1eb-3c394bdd0bad"
   },
   "outputs": [
    {
     "name": "stdout",
     "output_type": "stream",
     "text": [
      "MSE1 : 64.55997932460923\n",
      "RMSE1: 8.034922484044836\n"
     ]
    }
   ],
   "source": [
    "# MSE(Mean Squared Error)를 측정하기\n",
    "MSE1 = mean_squared_error(y1_test, y1_pred) \n",
    "# mean_squared_error : error의 제곱 평균값(error의 제곱값 총 합/ 개수)을 구해주는 함수\n",
    "\n",
    "# RMSE(Root Mean Squared Error)를 측정하기\n",
    "RMSE1 = np.sqrt(MSE1)\n",
    "\n",
    "print('MSE1 :', MSE1)\n",
    "print('RMSE1:', RMSE1)"
   ]
  },
  {
   "cell_type": "code",
   "execution_count": 24,
   "metadata": {},
   "outputs": [
    {
     "name": "stdout",
     "output_type": "stream",
     "text": [
      "MSE2 : 39.92877441179057\n",
      "RMSE2 : 6.318921934301022\n"
     ]
    }
   ],
   "source": [
    "MSE2 = mean_squared_error(y2_test, y2_pred) \n",
    "RMSE2 = np.sqrt(MSE2)\n",
    "\n",
    "print('MSE2 :', MSE2)\n",
    "print('RMSE2 :', RMSE2)"
   ]
  },
  {
   "cell_type": "code",
   "execution_count": 25,
   "metadata": {
    "colab": {
     "base_uri": "https://localhost:8080/",
     "height": 281
    },
    "executionInfo": {
     "elapsed": 330,
     "status": "ok",
     "timestamp": 1633086541288,
     "user": {
      "displayName": "경하김",
      "photoUrl": "https://lh3.googleusercontent.com/a/default-user=s64",
      "userId": "00010385631009285573"
     },
     "user_tz": -540
    },
    "id": "lo7qLHBHEKGX",
    "outputId": "8cd5c7b1-6c40-4575-e2ed-5607aa8a1e62"
   },
   "outputs": [
    {
     "data": {
      "image/png": "[encoded data removed]",
      "text/plain": [
       "<Figure size 432x288 with 1 Axes>"
      ]
     },
     "metadata": {
      "needs_background": "light"
     },
     "output_type": "display_data"
    }
   ],
   "source": [
    "plt.plot(X1_test, y1_test, 'o')\n",
    "plt.plot(X1_test, y1_pred)\n",
    "plt.title('Hurricane and Emission Prediction')\n",
    "plt.show() # X_test와 y_test 결과치 - 최종 결과(둘 간의 관계) 를 선형 함수로 시각화\n",
    "# 아래처럼 완전 선형 관계로 출력이 되면 모델 학습이 매우 잘된 편"
   ]
  },
  {
   "cell_type": "code",
   "execution_count": 26,
   "metadata": {
    "id": "QOwjEBK2END9"
   },
   "outputs": [
    {
     "data": {
      "image/png": "[encoded data removed]",
      "text/plain": [
       "<Figure size 432x288 with 1 Axes>"
      ]
     },
     "metadata": {
      "needs_background": "light"
     },
     "output_type": "display_data"
    }
   ],
   "source": [
    "plt.plot(X2_test, y2_test, 'o')\n",
    "plt.plot(X2_test, y2_pred)\n",
    "plt.title('Emission Prediction by Year')\n",
    "plt.show()"
   ]
  }
 ],
 "metadata": {
  "colab": {
   "collapsed_sections": [],
   "name": "[실습]3-3-1.linear_regression_height_weight_pred_해설.ipynb",
   "provenance": [
    {
     "file_id": "1h5v55RNo3mCdiANCliF1Sii28GATpSco",
     "timestamp": 1633085983795
    },
    {
     "file_id": "16_Z1AKppiyHZwopp_lJOQ77xEDFR6AnH",
     "timestamp": 1633084557503
    }
   ]
  },
  "kernelspec": {
   "display_name": "MLvenv",
   "language": "python",
   "name": "mlvenv"
  },
  "language_info": {
   "codemirror_mode": {
    "name": "ipython",
    "version": 3
   },
   "file_extension": ".py",
   "mimetype": "text/x-python",
   "name": "python",
   "nbconvert_exporter": "python",
   "pygments_lexer": "ipython3",
   "version": "3.8.0"
  }
 },
 "nbformat": 4,
 "nbformat_minor": 1
}
