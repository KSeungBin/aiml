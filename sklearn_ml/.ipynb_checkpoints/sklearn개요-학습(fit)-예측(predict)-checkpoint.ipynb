{
 "cells": [
  {
   "cell_type": "code",
   "execution_count": 1,
   "id": "aa460a4f",
   "metadata": {},
   "outputs": [],
   "source": [
    "import numpy as np\n",
    "import seaborn as sns\n",
    "from sklearn.linear_model import LinearRegression\n",
    "# sklearn의 linear_model 안에 있는 LinearRegression estimator 사용"
   ]
  },
  {
   "cell_type": "markdown",
   "id": "52edbeb2",
   "metadata": {},
   "source": [
    "# 학습데이터 준비"
   ]
  },
  {
   "cell_type": "code",
   "execution_count": 2,
   "id": "4b963ac5",
   "metadata": {},
   "outputs": [],
   "source": [
    "# reshape 코드 입력\n",
    "X = np.arange(1,30,10).reshape(-1,1) \n",
    "y = (2*X + 1)"
   ]
  },
  {
   "cell_type": "code",
   "execution_count": 3,
   "id": "1e9f0ffa",
   "metadata": {},
   "outputs": [
    {
     "data": {
      "text/plain": [
       "array([[ 1],\n",
       "       [11],\n",
       "       [21]])"
      ]
     },
     "execution_count": 3,
     "metadata": {},
     "output_type": "execute_result"
    }
   ],
   "source": [
    "X  # X_train = training data set"
   ]
  },
  {
   "cell_type": "code",
   "execution_count": 16,
   "id": "2d850055",
   "metadata": {},
   "outputs": [
    {
     "data": {
      "text/plain": [
       "array([[17],\n",
       "       [25],\n",
       "       [31],\n",
       "       [51],\n",
       "       [17],\n",
       "       [ 7],\n",
       "       [57],\n",
       "       [51],\n",
       "       [59],\n",
       "       [35]])"
      ]
     },
     "execution_count": 16,
     "metadata": {},
     "output_type": "execute_result"
    }
   ],
   "source": [
    "y   # y_train = training data set"
   ]
  },
  {
   "cell_type": "code",
   "execution_count": 4,
   "id": "a9ad3a69",
   "metadata": {},
   "outputs": [
    {
     "data": {
      "text/plain": [
       "<AxesSubplot:>"
      ]
     },
     "execution_count": 4,
     "metadata": {},
     "output_type": "execute_result"
    },
    {
     "data": {
      "image/png": "[encoded data removed]",
      "text/plain": [
       "<Figure size 432x288 with 1 Axes>"
      ]
     },
     "metadata": {
      "needs_background": "light"
     },
     "output_type": "display_data"
    }
   ],
   "source": [
    "sns.regplot(x=X, y=y) # X와 y의 관계성 확인"
   ]
  },
  {
   "cell_type": "markdown",
   "id": "0f3404c9",
   "metadata": {},
   "source": [
    "# 모델의 선언 및 학습(fit)"
   ]
  },
  {
   "cell_type": "code",
   "execution_count": 5,
   "id": "e88d4587",
   "metadata": {},
   "outputs": [],
   "source": [
    "# 모델 선언(모델 객체 생성 - estimator로 객체 생성한다)\n",
    "model_lr = LinearRegression()"
   ]
  },
  {
   "cell_type": "code",
   "execution_count": 6,
   "id": "db575a8f",
   "metadata": {},
   "outputs": [
    {
     "data": {
      "text/plain": [
       "LinearRegression()"
      ]
     },
     "execution_count": 6,
     "metadata": {},
     "output_type": "execute_result"
    }
   ],
   "source": [
    "# 모델 확인 - 객체 = model_lr\n",
    "model_lr\n",
    "# 설정되어 있는 hyper parameter 값 확인(param 값에 따라 성능 달라짐)"
   ]
  },
  {
   "cell_type": "code",
   "execution_count": 7,
   "id": "34383a14",
   "metadata": {},
   "outputs": [
    {
     "data": {
      "text/plain": [
       "LinearRegression()"
      ]
     },
     "execution_count": 7,
     "metadata": {},
     "output_type": "execute_result"
    }
   ],
   "source": [
    "# fit 메소드로 모델 학습 \n",
    "model_lr.fit(X,y)\n",
    "# model_lr이 알고리즘 학습한 지능(모델) 그 자체이기 때문에 a = model_lr 하면 안됨(return값 아니니까)"
   ]
  },
  {
   "cell_type": "code",
   "execution_count": 8,
   "id": "4a617501",
   "metadata": {},
   "outputs": [],
   "source": [
    "# 학습외의 데이터를 입력하여 결과를 예측함\n",
    "prediction = model_lr.predict([[50],[67]]) # X_test = [50, 67] = Test dataset\n",
    "# 모델에 넣어 출력한 예측치를 return 하기 위해 prediction 변수에 저장"
   ]
  },
  {
   "cell_type": "code",
   "execution_count": 9,
   "id": "4e071a24",
   "metadata": {},
   "outputs": [
    {
     "data": {
      "text/plain": [
       "array([[101.],\n",
       "       [135.]])"
      ]
     },
     "execution_count": 9,
     "metadata": {},
     "output_type": "execute_result"
    }
   ],
   "source": [
    "prediction   # y hat = target = label"
   ]
  },
  {
   "cell_type": "markdown",
   "id": "437c7e17",
   "metadata": {},
   "source": [
    "# 다른 데이터셋을 넣어보자"
   ]
  },
  {
   "cell_type": "code",
   "execution_count": 11,
   "id": "b303477f",
   "metadata": {},
   "outputs": [],
   "source": [
    "X = np.random.randint(1,30,10).reshape(-1,1)\n",
    "y = 2 * X + 1"
   ]
  },
  {
   "cell_type": "code",
   "execution_count": 12,
   "id": "ee064ea4",
   "metadata": {},
   "outputs": [
    {
     "data": {
      "text/plain": [
       "array([[ 8],\n",
       "       [12],\n",
       "       [15],\n",
       "       [25],\n",
       "       [ 8],\n",
       "       [ 3],\n",
       "       [28],\n",
       "       [25],\n",
       "       [29],\n",
       "       [17]])"
      ]
     },
     "execution_count": 12,
     "metadata": {},
     "output_type": "execute_result"
    }
   ],
   "source": [
    "X"
   ]
  },
  {
   "cell_type": "code",
   "execution_count": 13,
   "id": "47057704",
   "metadata": {},
   "outputs": [
    {
     "data": {
      "text/plain": [
       "LinearRegression()"
      ]
     },
     "execution_count": 13,
     "metadata": {},
     "output_type": "execute_result"
    }
   ],
   "source": [
    "model_lr = LinearRegression()\n",
    "model_lr.fit(X,y)"
   ]
  },
  {
   "cell_type": "code",
   "execution_count": 14,
   "id": "887966ab",
   "metadata": {},
   "outputs": [],
   "source": [
    "prediction = model_lr.predict([[20],[33]])"
   ]
  },
  {
   "cell_type": "code",
   "execution_count": 15,
   "id": "3ff8735b",
   "metadata": {},
   "outputs": [
    {
     "data": {
      "text/plain": [
       "array([[41.],\n",
       "       [67.]])"
      ]
     },
     "execution_count": 15,
     "metadata": {},
     "output_type": "execute_result"
    }
   ],
   "source": [
    "prediction"
   ]
  },
  {
   "cell_type": "markdown",
   "id": "b0236aa0",
   "metadata": {},
   "source": [
    "# EDA 수행 및 머신러닝 학습모델 만들기 기본 익히기\n",
    "- 가장 y를 잘 뽑아낼 수 있는 특징값 만들기\n",
    "- 가장 상관관계가 있는 features를 추출"
   ]
  },
  {
   "cell_type": "code",
   "execution_count": 17,
   "id": "e3f0e2a3",
   "metadata": {},
   "outputs": [],
   "source": [
    "import numpy as np\n",
    "import pandas as pd"
   ]
  },
  {
   "cell_type": "code",
   "execution_count": 19,
   "id": "96314d63",
   "metadata": {},
   "outputs": [],
   "source": [
    "train = pd.read_csv('./data/titanic_clean.csv')"
   ]
  },
  {
   "cell_type": "code",
   "execution_count": 22,
   "id": "ffe136b6",
   "metadata": {},
   "outputs": [
    {
     "data": {
      "text/html": [
       "<div>\n",
       "<style scoped>\n",
       "    .dataframe tbody tr th:only-of-type {\n",
       "        vertical-align: middle;\n",
       "    }\n",
       "\n",
       "    .dataframe tbody tr th {\n",
       "        vertical-align: top;\n",
       "    }\n",
       "\n",
       "    .dataframe thead th {\n",
       "        text-align: right;\n",
       "    }\n",
       "</style>\n",
       "<table border=\"1\" class=\"dataframe\">\n",
       "  <thead>\n",
       "    <tr style=\"text-align: right;\">\n",
       "      <th></th>\n",
       "      <th>PassengerId</th>\n",
       "      <th>Survived</th>\n",
       "      <th>Pclass</th>\n",
       "      <th>Name</th>\n",
       "      <th>Sex</th>\n",
       "      <th>Age</th>\n",
       "      <th>SibSp</th>\n",
       "      <th>Parch</th>\n",
       "      <th>Ticket</th>\n",
       "      <th>Fare</th>\n",
       "      <th>Cabin</th>\n",
       "      <th>Embarked</th>\n",
       "      <th>Sex_num</th>\n",
       "      <th>Embarked_num</th>\n",
       "      <th>E_C</th>\n",
       "      <th>E_Q</th>\n",
       "      <th>E_S</th>\n",
       "    </tr>\n",
       "  </thead>\n",
       "  <tbody>\n",
       "    <tr>\n",
       "      <th>0</th>\n",
       "      <td>1</td>\n",
       "      <td>0</td>\n",
       "      <td>3.0</td>\n",
       "      <td>Braund, Mr. Owen Harris</td>\n",
       "      <td>male</td>\n",
       "      <td>22.0</td>\n",
       "      <td>1</td>\n",
       "      <td>0</td>\n",
       "      <td>A/5 21171</td>\n",
       "      <td>7.2500</td>\n",
       "      <td>B96 B98</td>\n",
       "      <td>S</td>\n",
       "      <td>1</td>\n",
       "      <td>2</td>\n",
       "      <td>0</td>\n",
       "      <td>0</td>\n",
       "      <td>1</td>\n",
       "    </tr>\n",
       "    <tr>\n",
       "      <th>1</th>\n",
       "      <td>2</td>\n",
       "      <td>1</td>\n",
       "      <td>1.0</td>\n",
       "      <td>Cumings, Mrs. John Bradley (Florence Briggs Th...</td>\n",
       "      <td>female</td>\n",
       "      <td>38.0</td>\n",
       "      <td>1</td>\n",
       "      <td>0</td>\n",
       "      <td>PC 17599</td>\n",
       "      <td>71.2833</td>\n",
       "      <td>C85</td>\n",
       "      <td>C</td>\n",
       "      <td>0</td>\n",
       "      <td>0</td>\n",
       "      <td>1</td>\n",
       "      <td>0</td>\n",
       "      <td>0</td>\n",
       "    </tr>\n",
       "    <tr>\n",
       "      <th>2</th>\n",
       "      <td>3</td>\n",
       "      <td>1</td>\n",
       "      <td>3.0</td>\n",
       "      <td>Heikkinen, Miss. Laina</td>\n",
       "      <td>female</td>\n",
       "      <td>26.0</td>\n",
       "      <td>0</td>\n",
       "      <td>0</td>\n",
       "      <td>STON/O2. 3101282</td>\n",
       "      <td>7.9250</td>\n",
       "      <td>B96 B98</td>\n",
       "      <td>S</td>\n",
       "      <td>0</td>\n",
       "      <td>2</td>\n",
       "      <td>0</td>\n",
       "      <td>0</td>\n",
       "      <td>1</td>\n",
       "    </tr>\n",
       "    <tr>\n",
       "      <th>3</th>\n",
       "      <td>4</td>\n",
       "      <td>1</td>\n",
       "      <td>1.0</td>\n",
       "      <td>Futrelle, Mrs. Jacques Heath (Lily May Peel)</td>\n",
       "      <td>female</td>\n",
       "      <td>35.0</td>\n",
       "      <td>1</td>\n",
       "      <td>0</td>\n",
       "      <td>113803</td>\n",
       "      <td>53.1000</td>\n",
       "      <td>C123</td>\n",
       "      <td>S</td>\n",
       "      <td>0</td>\n",
       "      <td>2</td>\n",
       "      <td>0</td>\n",
       "      <td>0</td>\n",
       "      <td>1</td>\n",
       "    </tr>\n",
       "    <tr>\n",
       "      <th>4</th>\n",
       "      <td>5</td>\n",
       "      <td>0</td>\n",
       "      <td>3.0</td>\n",
       "      <td>Allen, Mr. William Henry</td>\n",
       "      <td>male</td>\n",
       "      <td>35.0</td>\n",
       "      <td>0</td>\n",
       "      <td>0</td>\n",
       "      <td>373450</td>\n",
       "      <td>8.0500</td>\n",
       "      <td>B96 B98</td>\n",
       "      <td>S</td>\n",
       "      <td>1</td>\n",
       "      <td>2</td>\n",
       "      <td>0</td>\n",
       "      <td>0</td>\n",
       "      <td>1</td>\n",
       "    </tr>\n",
       "    <tr>\n",
       "      <th>...</th>\n",
       "      <td>...</td>\n",
       "      <td>...</td>\n",
       "      <td>...</td>\n",
       "      <td>...</td>\n",
       "      <td>...</td>\n",
       "      <td>...</td>\n",
       "      <td>...</td>\n",
       "      <td>...</td>\n",
       "      <td>...</td>\n",
       "      <td>...</td>\n",
       "      <td>...</td>\n",
       "      <td>...</td>\n",
       "      <td>...</td>\n",
       "      <td>...</td>\n",
       "      <td>...</td>\n",
       "      <td>...</td>\n",
       "      <td>...</td>\n",
       "    </tr>\n",
       "    <tr>\n",
       "      <th>881</th>\n",
       "      <td>882</td>\n",
       "      <td>0</td>\n",
       "      <td>3.0</td>\n",
       "      <td>Markun, Mr. Johann</td>\n",
       "      <td>male</td>\n",
       "      <td>33.0</td>\n",
       "      <td>0</td>\n",
       "      <td>0</td>\n",
       "      <td>349257</td>\n",
       "      <td>7.8958</td>\n",
       "      <td>B96 B98</td>\n",
       "      <td>S</td>\n",
       "      <td>1</td>\n",
       "      <td>2</td>\n",
       "      <td>0</td>\n",
       "      <td>0</td>\n",
       "      <td>1</td>\n",
       "    </tr>\n",
       "    <tr>\n",
       "      <th>882</th>\n",
       "      <td>883</td>\n",
       "      <td>0</td>\n",
       "      <td>3.0</td>\n",
       "      <td>Dahlberg, Miss. Gerda Ulrika</td>\n",
       "      <td>female</td>\n",
       "      <td>22.0</td>\n",
       "      <td>0</td>\n",
       "      <td>0</td>\n",
       "      <td>7552</td>\n",
       "      <td>10.5167</td>\n",
       "      <td>B96 B98</td>\n",
       "      <td>S</td>\n",
       "      <td>0</td>\n",
       "      <td>2</td>\n",
       "      <td>0</td>\n",
       "      <td>0</td>\n",
       "      <td>1</td>\n",
       "    </tr>\n",
       "    <tr>\n",
       "      <th>883</th>\n",
       "      <td>884</td>\n",
       "      <td>0</td>\n",
       "      <td>2.0</td>\n",
       "      <td>Banfield, Mr. Frederick James</td>\n",
       "      <td>male</td>\n",
       "      <td>28.0</td>\n",
       "      <td>0</td>\n",
       "      <td>0</td>\n",
       "      <td>C.A./SOTON 34068</td>\n",
       "      <td>10.5000</td>\n",
       "      <td>B96 B98</td>\n",
       "      <td>S</td>\n",
       "      <td>1</td>\n",
       "      <td>2</td>\n",
       "      <td>0</td>\n",
       "      <td>0</td>\n",
       "      <td>1</td>\n",
       "    </tr>\n",
       "    <tr>\n",
       "      <th>884</th>\n",
       "      <td>885</td>\n",
       "      <td>0</td>\n",
       "      <td>3.0</td>\n",
       "      <td>Sutehall, Mr. Henry Jr</td>\n",
       "      <td>male</td>\n",
       "      <td>25.0</td>\n",
       "      <td>0</td>\n",
       "      <td>0</td>\n",
       "      <td>SOTON/OQ 392076</td>\n",
       "      <td>7.0500</td>\n",
       "      <td>B96 B98</td>\n",
       "      <td>S</td>\n",
       "      <td>1</td>\n",
       "      <td>2</td>\n",
       "      <td>0</td>\n",
       "      <td>0</td>\n",
       "      <td>1</td>\n",
       "    </tr>\n",
       "    <tr>\n",
       "      <th>885</th>\n",
       "      <td>886</td>\n",
       "      <td>0</td>\n",
       "      <td>3.0</td>\n",
       "      <td>Rice, Mrs. William (Margaret Norton)</td>\n",
       "      <td>female</td>\n",
       "      <td>39.0</td>\n",
       "      <td>0</td>\n",
       "      <td>5</td>\n",
       "      <td>382652</td>\n",
       "      <td>29.1250</td>\n",
       "      <td>B96 B98</td>\n",
       "      <td>Q</td>\n",
       "      <td>0</td>\n",
       "      <td>1</td>\n",
       "      <td>0</td>\n",
       "      <td>1</td>\n",
       "      <td>0</td>\n",
       "    </tr>\n",
       "  </tbody>\n",
       "</table>\n",
       "<p>886 rows × 17 columns</p>\n",
       "</div>"
      ],
      "text/plain": [
       "     PassengerId  Survived  Pclass  \\\n",
       "0              1         0     3.0   \n",
       "1              2         1     1.0   \n",
       "2              3         1     3.0   \n",
       "3              4         1     1.0   \n",
       "4              5         0     3.0   \n",
       "..           ...       ...     ...   \n",
       "881          882         0     3.0   \n",
       "882          883         0     3.0   \n",
       "883          884         0     2.0   \n",
       "884          885         0     3.0   \n",
       "885          886         0     3.0   \n",
       "\n",
       "                                                  Name     Sex   Age  SibSp  \\\n",
       "0                              Braund, Mr. Owen Harris    male  22.0      1   \n",
       "1    Cumings, Mrs. John Bradley (Florence Briggs Th...  female  38.0      1   \n",
       "2                               Heikkinen, Miss. Laina  female  26.0      0   \n",
       "3         Futrelle, Mrs. Jacques Heath (Lily May Peel)  female  35.0      1   \n",
       "4                             Allen, Mr. William Henry    male  35.0      0   \n",
       "..                                                 ...     ...   ...    ...   \n",
       "881                                 Markun, Mr. Johann    male  33.0      0   \n",
       "882                       Dahlberg, Miss. Gerda Ulrika  female  22.0      0   \n",
       "883                      Banfield, Mr. Frederick James    male  28.0      0   \n",
       "884                             Sutehall, Mr. Henry Jr    male  25.0      0   \n",
       "885               Rice, Mrs. William (Margaret Norton)  female  39.0      0   \n",
       "\n",
       "     Parch            Ticket     Fare    Cabin Embarked  Sex_num  \\\n",
       "0        0         A/5 21171   7.2500  B96 B98        S        1   \n",
       "1        0          PC 17599  71.2833      C85        C        0   \n",
       "2        0  STON/O2. 3101282   7.9250  B96 B98        S        0   \n",
       "3        0            113803  53.1000     C123        S        0   \n",
       "4        0            373450   8.0500  B96 B98        S        1   \n",
       "..     ...               ...      ...      ...      ...      ...   \n",
       "881      0            349257   7.8958  B96 B98        S        1   \n",
       "882      0              7552  10.5167  B96 B98        S        0   \n",
       "883      0  C.A./SOTON 34068  10.5000  B96 B98        S        1   \n",
       "884      0   SOTON/OQ 392076   7.0500  B96 B98        S        1   \n",
       "885      5            382652  29.1250  B96 B98        Q        0   \n",
       "\n",
       "     Embarked_num  E_C  E_Q  E_S  \n",
       "0               2    0    0    1  \n",
       "1               0    1    0    0  \n",
       "2               2    0    0    1  \n",
       "3               2    0    0    1  \n",
       "4               2    0    0    1  \n",
       "..            ...  ...  ...  ...  \n",
       "881             2    0    0    1  \n",
       "882             2    0    0    1  \n",
       "883             2    0    0    1  \n",
       "884             2    0    0    1  \n",
       "885             1    0    1    0  \n",
       "\n",
       "[886 rows x 17 columns]"
      ]
     },
     "execution_count": 22,
     "metadata": {},
     "output_type": "execute_result"
    }
   ],
   "source": [
    "train.head(-5) # 데이터의 맨 뒷줄에 있는 5줄을 빼고 출력\n",
    "# -5를 param으로 넣으면 앞 뒤 데이터를 모두 볼 수 있음"
   ]
  },
  {
   "cell_type": "code",
   "execution_count": 21,
   "id": "f69825bd",
   "metadata": {},
   "outputs": [
    {
     "data": {
      "text/html": [
       "<div>\n",
       "<style scoped>\n",
       "    .dataframe tbody tr th:only-of-type {\n",
       "        vertical-align: middle;\n",
       "    }\n",
       "\n",
       "    .dataframe tbody tr th {\n",
       "        vertical-align: top;\n",
       "    }\n",
       "\n",
       "    .dataframe thead th {\n",
       "        text-align: right;\n",
       "    }\n",
       "</style>\n",
       "<table border=\"1\" class=\"dataframe\">\n",
       "  <thead>\n",
       "    <tr style=\"text-align: right;\">\n",
       "      <th></th>\n",
       "      <th>PassengerId</th>\n",
       "      <th>Survived</th>\n",
       "      <th>Pclass</th>\n",
       "      <th>Age</th>\n",
       "      <th>SibSp</th>\n",
       "      <th>Parch</th>\n",
       "      <th>Fare</th>\n",
       "      <th>Sex_num</th>\n",
       "      <th>Embarked_num</th>\n",
       "      <th>E_C</th>\n",
       "      <th>E_Q</th>\n",
       "      <th>E_S</th>\n",
       "    </tr>\n",
       "  </thead>\n",
       "  <tbody>\n",
       "    <tr>\n",
       "      <th>count</th>\n",
       "      <td>891.000000</td>\n",
       "      <td>891.000000</td>\n",
       "      <td>891.000000</td>\n",
       "      <td>891.000000</td>\n",
       "      <td>891.000000</td>\n",
       "      <td>891.000000</td>\n",
       "      <td>891.000000</td>\n",
       "      <td>891.000000</td>\n",
       "      <td>891.000000</td>\n",
       "      <td>891.000000</td>\n",
       "      <td>891.000000</td>\n",
       "      <td>891.000000</td>\n",
       "    </tr>\n",
       "    <tr>\n",
       "      <th>mean</th>\n",
       "      <td>446.000000</td>\n",
       "      <td>0.383838</td>\n",
       "      <td>2.305776</td>\n",
       "      <td>29.699118</td>\n",
       "      <td>0.523008</td>\n",
       "      <td>0.381594</td>\n",
       "      <td>32.204208</td>\n",
       "      <td>0.647587</td>\n",
       "      <td>1.536476</td>\n",
       "      <td>0.188552</td>\n",
       "      <td>0.086420</td>\n",
       "      <td>0.725028</td>\n",
       "    </tr>\n",
       "    <tr>\n",
       "      <th>std</th>\n",
       "      <td>257.353842</td>\n",
       "      <td>0.486592</td>\n",
       "      <td>0.832919</td>\n",
       "      <td>13.002015</td>\n",
       "      <td>1.102743</td>\n",
       "      <td>0.806057</td>\n",
       "      <td>49.693429</td>\n",
       "      <td>0.477990</td>\n",
       "      <td>0.791503</td>\n",
       "      <td>0.391372</td>\n",
       "      <td>0.281141</td>\n",
       "      <td>0.446751</td>\n",
       "    </tr>\n",
       "    <tr>\n",
       "      <th>min</th>\n",
       "      <td>1.000000</td>\n",
       "      <td>0.000000</td>\n",
       "      <td>1.000000</td>\n",
       "      <td>0.420000</td>\n",
       "      <td>0.000000</td>\n",
       "      <td>0.000000</td>\n",
       "      <td>0.000000</td>\n",
       "      <td>0.000000</td>\n",
       "      <td>0.000000</td>\n",
       "      <td>0.000000</td>\n",
       "      <td>0.000000</td>\n",
       "      <td>0.000000</td>\n",
       "    </tr>\n",
       "    <tr>\n",
       "      <th>25%</th>\n",
       "      <td>223.500000</td>\n",
       "      <td>0.000000</td>\n",
       "      <td>2.000000</td>\n",
       "      <td>22.000000</td>\n",
       "      <td>0.000000</td>\n",
       "      <td>0.000000</td>\n",
       "      <td>7.910400</td>\n",
       "      <td>0.000000</td>\n",
       "      <td>1.000000</td>\n",
       "      <td>0.000000</td>\n",
       "      <td>0.000000</td>\n",
       "      <td>0.000000</td>\n",
       "    </tr>\n",
       "    <tr>\n",
       "      <th>50%</th>\n",
       "      <td>446.000000</td>\n",
       "      <td>0.000000</td>\n",
       "      <td>3.000000</td>\n",
       "      <td>29.699118</td>\n",
       "      <td>0.000000</td>\n",
       "      <td>0.000000</td>\n",
       "      <td>14.454200</td>\n",
       "      <td>1.000000</td>\n",
       "      <td>2.000000</td>\n",
       "      <td>0.000000</td>\n",
       "      <td>0.000000</td>\n",
       "      <td>1.000000</td>\n",
       "    </tr>\n",
       "    <tr>\n",
       "      <th>75%</th>\n",
       "      <td>668.500000</td>\n",
       "      <td>1.000000</td>\n",
       "      <td>3.000000</td>\n",
       "      <td>35.000000</td>\n",
       "      <td>1.000000</td>\n",
       "      <td>0.000000</td>\n",
       "      <td>31.000000</td>\n",
       "      <td>1.000000</td>\n",
       "      <td>2.000000</td>\n",
       "      <td>0.000000</td>\n",
       "      <td>0.000000</td>\n",
       "      <td>1.000000</td>\n",
       "    </tr>\n",
       "    <tr>\n",
       "      <th>max</th>\n",
       "      <td>891.000000</td>\n",
       "      <td>1.000000</td>\n",
       "      <td>3.000000</td>\n",
       "      <td>80.000000</td>\n",
       "      <td>8.000000</td>\n",
       "      <td>6.000000</td>\n",
       "      <td>512.329200</td>\n",
       "      <td>1.000000</td>\n",
       "      <td>2.000000</td>\n",
       "      <td>1.000000</td>\n",
       "      <td>1.000000</td>\n",
       "      <td>1.000000</td>\n",
       "    </tr>\n",
       "  </tbody>\n",
       "</table>\n",
       "</div>"
      ],
      "text/plain": [
       "       PassengerId    Survived      Pclass         Age       SibSp  \\\n",
       "count   891.000000  891.000000  891.000000  891.000000  891.000000   \n",
       "mean    446.000000    0.383838    2.305776   29.699118    0.523008   \n",
       "std     257.353842    0.486592    0.832919   13.002015    1.102743   \n",
       "min       1.000000    0.000000    1.000000    0.420000    0.000000   \n",
       "25%     223.500000    0.000000    2.000000   22.000000    0.000000   \n",
       "50%     446.000000    0.000000    3.000000   29.699118    0.000000   \n",
       "75%     668.500000    1.000000    3.000000   35.000000    1.000000   \n",
       "max     891.000000    1.000000    3.000000   80.000000    8.000000   \n",
       "\n",
       "            Parch        Fare     Sex_num  Embarked_num         E_C  \\\n",
       "count  891.000000  891.000000  891.000000    891.000000  891.000000   \n",
       "mean     0.381594   32.204208    0.647587      1.536476    0.188552   \n",
       "std      0.806057   49.693429    0.477990      0.791503    0.391372   \n",
       "min      0.000000    0.000000    0.000000      0.000000    0.000000   \n",
       "25%      0.000000    7.910400    0.000000      1.000000    0.000000   \n",
       "50%      0.000000   14.454200    1.000000      2.000000    0.000000   \n",
       "75%      0.000000   31.000000    1.000000      2.000000    0.000000   \n",
       "max      6.000000  512.329200    1.000000      2.000000    1.000000   \n",
       "\n",
       "              E_Q         E_S  \n",
       "count  891.000000  891.000000  \n",
       "mean     0.086420    0.725028  \n",
       "std      0.281141    0.446751  \n",
       "min      0.000000    0.000000  \n",
       "25%      0.000000    0.000000  \n",
       "50%      0.000000    1.000000  \n",
       "75%      0.000000    1.000000  \n",
       "max      1.000000    1.000000  "
      ]
     },
     "execution_count": 21,
     "metadata": {},
     "output_type": "execute_result"
    }
   ],
   "source": [
    "train.describe() # 기술 통계 값 반드시 확인"
   ]
  },
  {
   "cell_type": "code",
   "execution_count": 23,
   "id": "e6da67b1",
   "metadata": {},
   "outputs": [
    {
     "name": "stdout",
     "output_type": "stream",
     "text": [
      "<class 'pandas.core.frame.DataFrame'>\n",
      "RangeIndex: 891 entries, 0 to 890\n",
      "Data columns (total 17 columns):\n",
      " #   Column        Non-Null Count  Dtype  \n",
      "---  ------        --------------  -----  \n",
      " 0   PassengerId   891 non-null    int64  \n",
      " 1   Survived      891 non-null    int64  \n",
      " 2   Pclass        891 non-null    float64\n",
      " 3   Name          891 non-null    object \n",
      " 4   Sex           891 non-null    object \n",
      " 5   Age           891 non-null    float64\n",
      " 6   SibSp         891 non-null    int64  \n",
      " 7   Parch         891 non-null    int64  \n",
      " 8   Ticket        891 non-null    object \n",
      " 9   Fare          891 non-null    float64\n",
      " 10  Cabin         891 non-null    object \n",
      " 11  Embarked      891 non-null    object \n",
      " 12  Sex_num       891 non-null    int64  \n",
      " 13  Embarked_num  891 non-null    int64  \n",
      " 14  E_C           891 non-null    int64  \n",
      " 15  E_Q           891 non-null    int64  \n",
      " 16  E_S           891 non-null    int64  \n",
      "dtypes: float64(3), int64(9), object(5)\n",
      "memory usage: 118.5+ KB\n"
     ]
    }
   ],
   "source": [
    "train.info() # 891 entries = 모든 column의 count가 891 : 결측치가 없는 데이터\n",
    "# object = 문자열 데이터"
   ]
  },
  {
   "cell_type": "code",
   "execution_count": 24,
   "id": "11752eb8",
   "metadata": {},
   "outputs": [],
   "source": [
    "#실수형으로 되어 있는 Pclass를 정수 type으로 변환\n",
    "train['Pclass'] =train['Pclass'].astype(int)"
   ]
  },
  {
   "cell_type": "code",
   "execution_count": 25,
   "id": "0c579993",
   "metadata": {},
   "outputs": [],
   "source": [
    "#실수형으로 되어 있는 나이를 정수 type으로 변환\n",
    "train['Age'] = train['Age'].astype(int) # astype = 데이터타입을 변환해주는 함수"
   ]
  },
  {
   "cell_type": "code",
   "execution_count": 26,
   "id": "214d8b3c",
   "metadata": {},
   "outputs": [
    {
     "data": {
      "text/plain": [
       "Index(['PassengerId', 'Survived', 'Pclass', 'Name', 'Sex', 'Age', 'SibSp',\n",
       "       'Parch', 'Ticket', 'Fare', 'Cabin', 'Embarked', 'Sex_num',\n",
       "       'Embarked_num', 'E_C', 'E_Q', 'E_S'],\n",
       "      dtype='object')"
      ]
     },
     "execution_count": 26,
     "metadata": {},
     "output_type": "execute_result"
    }
   ],
   "source": [
    "train.columns # column labels 확인 가능 -> 더블 클릭 해서 copy&paste하기 위해 많이 사용"
   ]
  },
  {
   "cell_type": "code",
   "execution_count": 27,
   "id": "e32bc0ed",
   "metadata": {},
   "outputs": [],
   "source": [
    "import matplotlib.pyplot as plt\n",
    "import seaborn as sns\n",
    "# plt import만 하면 seaborn을 그릴때 plt 반영되어 그려짐"
   ]
  },
  {
   "cell_type": "code",
   "execution_count": 29,
   "id": "1c447587",
   "metadata": {},
   "outputs": [],
   "source": [
    "df_eda=train.loc[:,'PassengerId':'Embarked']      \n",
    "#loc = lable name으로 slicing, iloc = index num으로 slicing"
   ]
  },
  {
   "cell_type": "code",
   "execution_count": 30,
   "id": "02090326",
   "metadata": {},
   "outputs": [
    {
     "data": {
      "text/html": [
       "<div>\n",
       "<style scoped>\n",
       "    .dataframe tbody tr th:only-of-type {\n",
       "        vertical-align: middle;\n",
       "    }\n",
       "\n",
       "    .dataframe tbody tr th {\n",
       "        vertical-align: top;\n",
       "    }\n",
       "\n",
       "    .dataframe thead th {\n",
       "        text-align: right;\n",
       "    }\n",
       "</style>\n",
       "<table border=\"1\" class=\"dataframe\">\n",
       "  <thead>\n",
       "    <tr style=\"text-align: right;\">\n",
       "      <th></th>\n",
       "      <th>PassengerId</th>\n",
       "      <th>Survived</th>\n",
       "      <th>Pclass</th>\n",
       "      <th>Age</th>\n",
       "      <th>SibSp</th>\n",
       "      <th>Parch</th>\n",
       "      <th>Fare</th>\n",
       "    </tr>\n",
       "  </thead>\n",
       "  <tbody>\n",
       "    <tr>\n",
       "      <th>PassengerId</th>\n",
       "      <td>1.000000</td>\n",
       "      <td>-0.005007</td>\n",
       "      <td>-0.025124</td>\n",
       "      <td>0.033741</td>\n",
       "      <td>-0.057527</td>\n",
       "      <td>-0.001652</td>\n",
       "      <td>0.012658</td>\n",
       "    </tr>\n",
       "    <tr>\n",
       "      <th>Survived</th>\n",
       "      <td>-0.005007</td>\n",
       "      <td>1.000000</td>\n",
       "      <td>-0.334241</td>\n",
       "      <td>-0.067809</td>\n",
       "      <td>-0.035322</td>\n",
       "      <td>0.081629</td>\n",
       "      <td>0.257307</td>\n",
       "    </tr>\n",
       "    <tr>\n",
       "      <th>Pclass</th>\n",
       "      <td>-0.025124</td>\n",
       "      <td>-0.334241</td>\n",
       "      <td>1.000000</td>\n",
       "      <td>-0.334923</td>\n",
       "      <td>0.082875</td>\n",
       "      <td>0.021693</td>\n",
       "      <td>-0.547980</td>\n",
       "    </tr>\n",
       "    <tr>\n",
       "      <th>Age</th>\n",
       "      <td>0.033741</td>\n",
       "      <td>-0.067809</td>\n",
       "      <td>-0.334923</td>\n",
       "      <td>1.000000</td>\n",
       "      <td>-0.232743</td>\n",
       "      <td>-0.176744</td>\n",
       "      <td>0.093856</td>\n",
       "    </tr>\n",
       "    <tr>\n",
       "      <th>SibSp</th>\n",
       "      <td>-0.057527</td>\n",
       "      <td>-0.035322</td>\n",
       "      <td>0.082875</td>\n",
       "      <td>-0.232743</td>\n",
       "      <td>1.000000</td>\n",
       "      <td>0.414838</td>\n",
       "      <td>0.159651</td>\n",
       "    </tr>\n",
       "    <tr>\n",
       "      <th>Parch</th>\n",
       "      <td>-0.001652</td>\n",
       "      <td>0.081629</td>\n",
       "      <td>0.021693</td>\n",
       "      <td>-0.176744</td>\n",
       "      <td>0.414838</td>\n",
       "      <td>1.000000</td>\n",
       "      <td>0.216225</td>\n",
       "    </tr>\n",
       "    <tr>\n",
       "      <th>Fare</th>\n",
       "      <td>0.012658</td>\n",
       "      <td>0.257307</td>\n",
       "      <td>-0.547980</td>\n",
       "      <td>0.093856</td>\n",
       "      <td>0.159651</td>\n",
       "      <td>0.216225</td>\n",
       "      <td>1.000000</td>\n",
       "    </tr>\n",
       "  </tbody>\n",
       "</table>\n",
       "</div>"
      ],
      "text/plain": [
       "             PassengerId  Survived    Pclass       Age     SibSp     Parch  \\\n",
       "PassengerId     1.000000 -0.005007 -0.025124  0.033741 -0.057527 -0.001652   \n",
       "Survived       -0.005007  1.000000 -0.334241 -0.067809 -0.035322  0.081629   \n",
       "Pclass         -0.025124 -0.334241  1.000000 -0.334923  0.082875  0.021693   \n",
       "Age             0.033741 -0.067809 -0.334923  1.000000 -0.232743 -0.176744   \n",
       "SibSp          -0.057527 -0.035322  0.082875 -0.232743  1.000000  0.414838   \n",
       "Parch          -0.001652  0.081629  0.021693 -0.176744  0.414838  1.000000   \n",
       "Fare            0.012658  0.257307 -0.547980  0.093856  0.159651  0.216225   \n",
       "\n",
       "                 Fare  \n",
       "PassengerId  0.012658  \n",
       "Survived     0.257307  \n",
       "Pclass      -0.547980  \n",
       "Age          0.093856  \n",
       "SibSp        0.159651  \n",
       "Parch        0.216225  \n",
       "Fare         1.000000  "
      ]
     },
     "execution_count": 30,
     "metadata": {},
     "output_type": "execute_result"
    }
   ],
   "source": [
    "# 서로 다른 features 간에 어떤 선형적 관계가 있는가\n",
    "df_eda.corr()['PassengerId':'Fare'] # corr = df간의 상관관계(음 or 양의 상관관계)"
   ]
  },
  {
   "cell_type": "code",
   "execution_count": 31,
   "id": "7e3915c7",
   "metadata": {},
   "outputs": [
    {
     "data": {
      "text/plain": [
       "<AxesSubplot:>"
      ]
     },
     "execution_count": 31,
     "metadata": {},
     "output_type": "execute_result"
    },
    {
     "data": {
      "image/png": "[encoded data removed]",
      "text/plain": [
       "<Figure size 720x720 with 2 Axes>"
      ]
     },
     "metadata": {
      "needs_background": "light"
     },
     "output_type": "display_data"
    }
   ],
   "source": [
    "# 위의 수치값을 직관적으로 보기 위해 heatmap()으로 시각화 - 두 독립변수 간의 관계\n",
    "fig = plt.figure(figsize=(10,10))\n",
    "sns.heatmap(df_eda.corr(), annot=True)\n",
    "# heatmap에 corr 적용할 때에는 annot와 color 정도만 지정하기, vmin과 vmax 등을 지정하면 오히려 해석 힘들어짐"
   ]
  },
  {
   "cell_type": "markdown",
   "id": "964e9bb3",
   "metadata": {},
   "source": [
    "# 위 heatmap 을 어떻게 해석해야 할까?\n",
    "- 0과 가까우면 두 독립변수는 서로 관계 없음\n",
    "- survived 와 Pclass의 corr는 -0.33 = 음의 상관관계(등급이 높을 수록 생존 확률 낮음)"
   ]
  },
  {
   "cell_type": "code",
   "execution_count": 32,
   "id": "3c30e7f3",
   "metadata": {},
   "outputs": [
    {
     "data": {
      "text/plain": [
       "<AxesSubplot:>"
      ]
     },
     "execution_count": 32,
     "metadata": {},
     "output_type": "execute_result"
    },
    {
     "data": {
      "image/png": "[encoded data removed]",
      "text/plain": [
       "<Figure size 288x432 with 2 Axes>"
      ]
     },
     "metadata": {
      "needs_background": "light"
     },
     "output_type": "display_data"
    }
   ],
   "source": [
    "# survived가 target - 따라서 survived와 다른 features 간 관계를 시각화\n",
    "fig = plt.figure(figsize=(4, 6))\n",
    "sns.heatmap(df_eda.corr()[['Survived']], annot=True)\n",
    "# 생존율 - pclass와 음의 상관관계, age 또는 SibSp 등과는 큰 상관관계 없음"
   ]
  },
  {
   "cell_type": "markdown",
   "id": "53026be1",
   "metadata": {},
   "source": [
    "## 각 feature와 생존(Survived)과의 관계 시각화"
   ]
  },
  {
   "cell_type": "code",
   "execution_count": 33,
   "id": "ac95afad",
   "metadata": {},
   "outputs": [
    {
     "data": {
      "text/plain": [
       "Index(['PassengerId', 'Survived', 'Pclass', 'Name', 'Sex', 'Age', 'SibSp',\n",
       "       'Parch', 'Ticket', 'Fare', 'Cabin', 'Embarked'],\n",
       "      dtype='object')"
      ]
     },
     "execution_count": 33,
     "metadata": {},
     "output_type": "execute_result"
    }
   ],
   "source": [
    "df_eda.columns"
   ]
  },
  {
   "cell_type": "code",
   "execution_count": 34,
   "id": "ccf0d803",
   "metadata": {},
   "outputs": [
    {
     "data": {
      "text/plain": [
       "3    485\n",
       "1    215\n",
       "2    191\n",
       "Name: Pclass, dtype: int64"
      ]
     },
     "execution_count": 34,
     "metadata": {},
     "output_type": "execute_result"
    }
   ],
   "source": [
    "df_eda['Pclass'].value_counts() \n",
    "# count 수보다는 해당 column을 구성하고 있는 값(1등급, 2등급...) 확인하기 위해 사용"
   ]
  },
  {
   "cell_type": "code",
   "execution_count": 35,
   "id": "d21b7799",
   "metadata": {},
   "outputs": [
    {
     "data": {
      "text/plain": [
       "<AxesSubplot:xlabel='Pclass', ylabel='Count'>"
      ]
     },
     "execution_count": 35,
     "metadata": {},
     "output_type": "execute_result"
    },
    {
     "data": {
      "image/png": "[encoded data removed]",
      "text/plain": [
       "<Figure size 432x288 with 1 Axes>"
      ]
     },
     "metadata": {
      "needs_background": "light"
     },
     "output_type": "display_data"
    }
   ],
   "source": [
    "# seaborn의 countplot() 및 histplot()을 사용하여 각 컬럼과 생존과의 관계를 시각화\n",
    "sns.histplot(x='Pclass', data=df_eda, hue='Survived', palette='RdBu',bins=3)\n",
    "# x축(Pclass)에 해당하는 count 값 출력\n",
    "# hue값을 주면 Pclass별 생존자수를 확인할 수 있음"
   ]
  },
  {
   "cell_type": "code",
   "execution_count": 36,
   "id": "dc444681",
   "metadata": {},
   "outputs": [
    {
     "data": {
      "text/plain": [
       "<AxesSubplot:xlabel='Sex', ylabel='Count'>"
      ]
     },
     "execution_count": 36,
     "metadata": {},
     "output_type": "execute_result"
    },
    {
     "data": {
      "image/png": "[encoded data removed]",
      "text/plain": [
       "<Figure size 432x288 with 1 Axes>"
      ]
     },
     "metadata": {
      "needs_background": "light"
     },
     "output_type": "display_data"
    }
   ],
   "source": [
    "sns.histplot(x='Sex', data=df_eda, hue='Survived', palette='RdBu',bins=2)\n",
    "# eda = x축의 feature값을 계속 바꿔주면서 목표 값(survived)과 어떤 관계가 있는지 탐색"
   ]
  },
  {
   "cell_type": "code",
   "execution_count": 37,
   "id": "d8d0df86",
   "metadata": {},
   "outputs": [
    {
     "data": {
      "text/plain": [
       "<AxesSubplot:xlabel='Age', ylabel='Count'>"
      ]
     },
     "execution_count": 37,
     "metadata": {},
     "output_type": "execute_result"
    },
    {
     "data": {
      "image/png": "[encoded data removed]",
      "text/plain": [
       "<Figure size 432x288 with 1 Axes>"
      ]
     },
     "metadata": {
      "needs_background": "light"
     },
     "output_type": "display_data"
    }
   ],
   "source": [
    "sns.histplot(x='Age', data=df_eda, hue='Survived', palette='RdBu',bins=10, kde=True)\n",
    "# 결론 = 특징을 잘 반영하는 columns만 취하기\n",
    "# bins 값을 어떻게 주느냐에 따라서도 insight 달라짐"
   ]
  },
  {
   "cell_type": "code",
   "execution_count": 38,
   "id": "1e766105",
   "metadata": {},
   "outputs": [
    {
     "data": {
      "text/plain": [
       "<AxesSubplot:xlabel='Fare', ylabel='Count'>"
      ]
     },
     "execution_count": 38,
     "metadata": {},
     "output_type": "execute_result"
    },
    {
     "data": {
      "image/png": "[encoded data removed]",
      "text/plain": [
       "<Figure size 432x288 with 1 Axes>"
      ]
     },
     "metadata": {
      "needs_background": "light"
     },
     "output_type": "display_data"
    }
   ],
   "source": [
    "sns.histplot(x='Fare', data=df_eda, hue='Survived', palette='RdBu', bins=8, kde=True)"
   ]
  },
  {
   "cell_type": "code",
   "execution_count": 40,
   "id": "99ce2644",
   "metadata": {},
   "outputs": [
    {
     "data": {
      "text/plain": [
       "S    646\n",
       "C    168\n",
       "Q     77\n",
       "Name: Embarked, dtype: int64"
      ]
     },
     "execution_count": 40,
     "metadata": {},
     "output_type": "execute_result"
    }
   ],
   "source": [
    "df_eda['Embarked'].value_counts()"
   ]
  },
  {
   "cell_type": "code",
   "execution_count": 67,
   "id": "958fef29",
   "metadata": {},
   "outputs": [
    {
     "data": {
      "text/html": [
       "<div>\n",
       "<style scoped>\n",
       "    .dataframe tbody tr th:only-of-type {\n",
       "        vertical-align: middle;\n",
       "    }\n",
       "\n",
       "    .dataframe tbody tr th {\n",
       "        vertical-align: top;\n",
       "    }\n",
       "\n",
       "    .dataframe thead th {\n",
       "        text-align: right;\n",
       "    }\n",
       "</style>\n",
       "<table border=\"1\" class=\"dataframe\">\n",
       "  <thead>\n",
       "    <tr style=\"text-align: right;\">\n",
       "      <th></th>\n",
       "      <th>PassengerId</th>\n",
       "      <th>Survived</th>\n",
       "      <th>Pclass</th>\n",
       "      <th>Name</th>\n",
       "      <th>Sex</th>\n",
       "      <th>Age</th>\n",
       "      <th>SibSp</th>\n",
       "      <th>Parch</th>\n",
       "      <th>Ticket</th>\n",
       "      <th>Fare</th>\n",
       "      <th>Cabin</th>\n",
       "      <th>Embarked</th>\n",
       "    </tr>\n",
       "  </thead>\n",
       "  <tbody>\n",
       "    <tr>\n",
       "      <th>0</th>\n",
       "      <td>1</td>\n",
       "      <td>0</td>\n",
       "      <td>3</td>\n",
       "      <td>Braund, Mr. Owen Harris</td>\n",
       "      <td>male</td>\n",
       "      <td>22</td>\n",
       "      <td>1</td>\n",
       "      <td>0</td>\n",
       "      <td>A/5 21171</td>\n",
       "      <td>7.2500</td>\n",
       "      <td>B96 B98</td>\n",
       "      <td>S</td>\n",
       "    </tr>\n",
       "    <tr>\n",
       "      <th>1</th>\n",
       "      <td>2</td>\n",
       "      <td>1</td>\n",
       "      <td>1</td>\n",
       "      <td>Cumings, Mrs. John Bradley (Florence Briggs Th...</td>\n",
       "      <td>female</td>\n",
       "      <td>38</td>\n",
       "      <td>1</td>\n",
       "      <td>0</td>\n",
       "      <td>PC 17599</td>\n",
       "      <td>71.2833</td>\n",
       "      <td>C85</td>\n",
       "      <td>C</td>\n",
       "    </tr>\n",
       "    <tr>\n",
       "      <th>2</th>\n",
       "      <td>3</td>\n",
       "      <td>1</td>\n",
       "      <td>3</td>\n",
       "      <td>Heikkinen, Miss. Laina</td>\n",
       "      <td>female</td>\n",
       "      <td>26</td>\n",
       "      <td>0</td>\n",
       "      <td>0</td>\n",
       "      <td>STON/O2. 3101282</td>\n",
       "      <td>7.9250</td>\n",
       "      <td>B96 B98</td>\n",
       "      <td>S</td>\n",
       "    </tr>\n",
       "    <tr>\n",
       "      <th>3</th>\n",
       "      <td>4</td>\n",
       "      <td>1</td>\n",
       "      <td>1</td>\n",
       "      <td>Futrelle, Mrs. Jacques Heath (Lily May Peel)</td>\n",
       "      <td>female</td>\n",
       "      <td>35</td>\n",
       "      <td>1</td>\n",
       "      <td>0</td>\n",
       "      <td>113803</td>\n",
       "      <td>53.1000</td>\n",
       "      <td>C123</td>\n",
       "      <td>S</td>\n",
       "    </tr>\n",
       "    <tr>\n",
       "      <th>4</th>\n",
       "      <td>5</td>\n",
       "      <td>0</td>\n",
       "      <td>3</td>\n",
       "      <td>Allen, Mr. William Henry</td>\n",
       "      <td>male</td>\n",
       "      <td>35</td>\n",
       "      <td>0</td>\n",
       "      <td>0</td>\n",
       "      <td>373450</td>\n",
       "      <td>8.0500</td>\n",
       "      <td>B96 B98</td>\n",
       "      <td>S</td>\n",
       "    </tr>\n",
       "    <tr>\n",
       "      <th>...</th>\n",
       "      <td>...</td>\n",
       "      <td>...</td>\n",
       "      <td>...</td>\n",
       "      <td>...</td>\n",
       "      <td>...</td>\n",
       "      <td>...</td>\n",
       "      <td>...</td>\n",
       "      <td>...</td>\n",
       "      <td>...</td>\n",
       "      <td>...</td>\n",
       "      <td>...</td>\n",
       "      <td>...</td>\n",
       "    </tr>\n",
       "    <tr>\n",
       "      <th>886</th>\n",
       "      <td>887</td>\n",
       "      <td>0</td>\n",
       "      <td>2</td>\n",
       "      <td>Montvila, Rev. Juozas</td>\n",
       "      <td>male</td>\n",
       "      <td>27</td>\n",
       "      <td>0</td>\n",
       "      <td>0</td>\n",
       "      <td>211536</td>\n",
       "      <td>13.0000</td>\n",
       "      <td>B96 B98</td>\n",
       "      <td>S</td>\n",
       "    </tr>\n",
       "    <tr>\n",
       "      <th>887</th>\n",
       "      <td>888</td>\n",
       "      <td>1</td>\n",
       "      <td>1</td>\n",
       "      <td>Graham, Miss. Margaret Edith</td>\n",
       "      <td>female</td>\n",
       "      <td>19</td>\n",
       "      <td>0</td>\n",
       "      <td>0</td>\n",
       "      <td>112053</td>\n",
       "      <td>30.0000</td>\n",
       "      <td>B42</td>\n",
       "      <td>S</td>\n",
       "    </tr>\n",
       "    <tr>\n",
       "      <th>888</th>\n",
       "      <td>889</td>\n",
       "      <td>0</td>\n",
       "      <td>3</td>\n",
       "      <td>Johnston, Miss. Catherine Helen \"Carrie\"</td>\n",
       "      <td>female</td>\n",
       "      <td>29</td>\n",
       "      <td>1</td>\n",
       "      <td>2</td>\n",
       "      <td>W./C. 6607</td>\n",
       "      <td>23.4500</td>\n",
       "      <td>B96 B98</td>\n",
       "      <td>S</td>\n",
       "    </tr>\n",
       "    <tr>\n",
       "      <th>889</th>\n",
       "      <td>890</td>\n",
       "      <td>1</td>\n",
       "      <td>1</td>\n",
       "      <td>Behr, Mr. Karl Howell</td>\n",
       "      <td>male</td>\n",
       "      <td>26</td>\n",
       "      <td>0</td>\n",
       "      <td>0</td>\n",
       "      <td>111369</td>\n",
       "      <td>30.0000</td>\n",
       "      <td>C148</td>\n",
       "      <td>C</td>\n",
       "    </tr>\n",
       "    <tr>\n",
       "      <th>890</th>\n",
       "      <td>891</td>\n",
       "      <td>0</td>\n",
       "      <td>3</td>\n",
       "      <td>Dooley, Mr. Patrick</td>\n",
       "      <td>male</td>\n",
       "      <td>32</td>\n",
       "      <td>0</td>\n",
       "      <td>0</td>\n",
       "      <td>370376</td>\n",
       "      <td>7.7500</td>\n",
       "      <td>B96 B98</td>\n",
       "      <td>Q</td>\n",
       "    </tr>\n",
       "  </tbody>\n",
       "</table>\n",
       "<p>891 rows × 12 columns</p>\n",
       "</div>"
      ],
      "text/plain": [
       "     PassengerId  Survived  Pclass  \\\n",
       "0              1         0       3   \n",
       "1              2         1       1   \n",
       "2              3         1       3   \n",
       "3              4         1       1   \n",
       "4              5         0       3   \n",
       "..           ...       ...     ...   \n",
       "886          887         0       2   \n",
       "887          888         1       1   \n",
       "888          889         0       3   \n",
       "889          890         1       1   \n",
       "890          891         0       3   \n",
       "\n",
       "                                                  Name     Sex  Age  SibSp  \\\n",
       "0                              Braund, Mr. Owen Harris    male   22      1   \n",
       "1    Cumings, Mrs. John Bradley (Florence Briggs Th...  female   38      1   \n",
       "2                               Heikkinen, Miss. Laina  female   26      0   \n",
       "3         Futrelle, Mrs. Jacques Heath (Lily May Peel)  female   35      1   \n",
       "4                             Allen, Mr. William Henry    male   35      0   \n",
       "..                                                 ...     ...  ...    ...   \n",
       "886                              Montvila, Rev. Juozas    male   27      0   \n",
       "887                       Graham, Miss. Margaret Edith  female   19      0   \n",
       "888           Johnston, Miss. Catherine Helen \"Carrie\"  female   29      1   \n",
       "889                              Behr, Mr. Karl Howell    male   26      0   \n",
       "890                                Dooley, Mr. Patrick    male   32      0   \n",
       "\n",
       "     Parch            Ticket     Fare    Cabin Embarked  \n",
       "0        0         A/5 21171   7.2500  B96 B98        S  \n",
       "1        0          PC 17599  71.2833      C85        C  \n",
       "2        0  STON/O2. 3101282   7.9250  B96 B98        S  \n",
       "3        0            113803  53.1000     C123        S  \n",
       "4        0            373450   8.0500  B96 B98        S  \n",
       "..     ...               ...      ...      ...      ...  \n",
       "886      0            211536  13.0000  B96 B98        S  \n",
       "887      0            112053  30.0000      B42        S  \n",
       "888      2        W./C. 6607  23.4500  B96 B98        S  \n",
       "889      0            111369  30.0000     C148        C  \n",
       "890      0            370376   7.7500  B96 B98        Q  \n",
       "\n",
       "[891 rows x 12 columns]"
      ]
     },
     "execution_count": 67,
     "metadata": {},
     "output_type": "execute_result"
    }
   ],
   "source": [
    "df_eda"
   ]
  },
  {
   "cell_type": "code",
   "execution_count": 71,
   "id": "84c6ed52",
   "metadata": {},
   "outputs": [
    {
     "data": {
      "text/plain": [
       "<AxesSubplot:xlabel='Embarked', ylabel='Count'>"
      ]
     },
     "execution_count": 71,
     "metadata": {},
     "output_type": "execute_result"
    },
    {
     "data": {
      "image/png": "[encoded data removed]",
      "text/plain": [
       "<Figure size 432x288 with 1 Axes>"
      ]
     },
     "metadata": {
      "needs_background": "light"
     },
     "output_type": "display_data"
    }
   ],
   "source": [
    "sns.histplot(data=df_eda, x='Embarked',  hue='Survived', bins=3, kde=True, palette='RdBu', \n",
    "              hue_order=[1,0])"
   ]
  },
  {
   "cell_type": "code",
   "execution_count": 39,
   "id": "364506e0",
   "metadata": {},
   "outputs": [
    {
     "data": {
      "text/plain": [
       "<seaborn.axisgrid.JointGrid at 0x7fb1262151f0>"
      ]
     },
     "execution_count": 39,
     "metadata": {},
     "output_type": "execute_result"
    },
    {
     "data": {
      "image/png": "[encoded data removed]",
      "text/plain": [
       "<Figure size 432x432 with 3 Axes>"
      ]
     },
     "metadata": {
      "needs_background": "light"
     },
     "output_type": "display_data"
    }
   ],
   "source": [
    "sns.jointplot(x='Age', y='Pclass', data=df_eda, hue='Survived', xlim=(0,100),ylim=(0,4))"
   ]
  },
  {
   "cell_type": "code",
   "execution_count": 69,
   "id": "8ae27ad9",
   "metadata": {},
   "outputs": [
    {
     "data": {
      "image/png": "[encoded data removed]",
      "text/plain": [
       "<Figure size 1080x720 with 1 Axes>"
      ]
     },
     "metadata": {
      "needs_background": "light"
     },
     "output_type": "display_data"
    }
   ],
   "source": [
    "plt.figure(figsize=(15,10)) #sns보다 위쪽라인에 있어야 함.\n",
    "plt.xticks(rotation=90)\n",
    "sns.countplot(x='Age', data=df_eda, hue='Survived', palette='RdBu')\n",
    "plt.show()\n",
    "# 20대가 타이타닉호에 많이 탑승했고, 생존율 가장 낮음\n",
    "# 어린 아이들은 생존율 높음"
   ]
  },
  {
   "cell_type": "markdown",
   "id": "9fe78836",
   "metadata": {},
   "source": [
    "## 전처리: 학습 데이터(feature)와 정답 데이터(label) 구분\n",
    "- feature(X)와 lable(y) 정의하기\n",
    "- feature, label을 정의했으면, 적절한 비율로 train/validation set 나누기"
   ]
  },
  {
   "cell_type": "code",
   "execution_count": 48,
   "id": "51dec223",
   "metadata": {},
   "outputs": [],
   "source": [
    "# feature(X)의 항목 list\n",
    "feature = ['Pclass', 'Sex_num', 'Age', 'Fare', 'E_C', 'E_Q', 'E_S']\n",
    "X = train[feature]"
   ]
  },
  {
   "cell_type": "code",
   "execution_count": 72,
   "id": "b738227b",
   "metadata": {},
   "outputs": [
    {
     "data": {
      "text/html": [
       "<div>\n",
       "<style scoped>\n",
       "    .dataframe tbody tr th:only-of-type {\n",
       "        vertical-align: middle;\n",
       "    }\n",
       "\n",
       "    .dataframe tbody tr th {\n",
       "        vertical-align: top;\n",
       "    }\n",
       "\n",
       "    .dataframe thead th {\n",
       "        text-align: right;\n",
       "    }\n",
       "</style>\n",
       "<table border=\"1\" class=\"dataframe\">\n",
       "  <thead>\n",
       "    <tr style=\"text-align: right;\">\n",
       "      <th></th>\n",
       "      <th>PassengerId</th>\n",
       "      <th>Survived</th>\n",
       "      <th>Pclass</th>\n",
       "      <th>Name</th>\n",
       "      <th>Sex</th>\n",
       "      <th>Age</th>\n",
       "      <th>SibSp</th>\n",
       "      <th>Parch</th>\n",
       "      <th>Ticket</th>\n",
       "      <th>Fare</th>\n",
       "      <th>Cabin</th>\n",
       "      <th>Embarked</th>\n",
       "      <th>Sex_num</th>\n",
       "      <th>Embarked_num</th>\n",
       "      <th>E_C</th>\n",
       "      <th>E_Q</th>\n",
       "      <th>E_S</th>\n",
       "    </tr>\n",
       "  </thead>\n",
       "  <tbody>\n",
       "    <tr>\n",
       "      <th>0</th>\n",
       "      <td>1</td>\n",
       "      <td>0</td>\n",
       "      <td>3</td>\n",
       "      <td>Braund, Mr. Owen Harris</td>\n",
       "      <td>male</td>\n",
       "      <td>22</td>\n",
       "      <td>1</td>\n",
       "      <td>0</td>\n",
       "      <td>A/5 21171</td>\n",
       "      <td>7.2500</td>\n",
       "      <td>B96 B98</td>\n",
       "      <td>S</td>\n",
       "      <td>1</td>\n",
       "      <td>2</td>\n",
       "      <td>0</td>\n",
       "      <td>0</td>\n",
       "      <td>1</td>\n",
       "    </tr>\n",
       "    <tr>\n",
       "      <th>1</th>\n",
       "      <td>2</td>\n",
       "      <td>1</td>\n",
       "      <td>1</td>\n",
       "      <td>Cumings, Mrs. John Bradley (Florence Briggs Th...</td>\n",
       "      <td>female</td>\n",
       "      <td>38</td>\n",
       "      <td>1</td>\n",
       "      <td>0</td>\n",
       "      <td>PC 17599</td>\n",
       "      <td>71.2833</td>\n",
       "      <td>C85</td>\n",
       "      <td>C</td>\n",
       "      <td>0</td>\n",
       "      <td>0</td>\n",
       "      <td>1</td>\n",
       "      <td>0</td>\n",
       "      <td>0</td>\n",
       "    </tr>\n",
       "    <tr>\n",
       "      <th>2</th>\n",
       "      <td>3</td>\n",
       "      <td>1</td>\n",
       "      <td>3</td>\n",
       "      <td>Heikkinen, Miss. Laina</td>\n",
       "      <td>female</td>\n",
       "      <td>26</td>\n",
       "      <td>0</td>\n",
       "      <td>0</td>\n",
       "      <td>STON/O2. 3101282</td>\n",
       "      <td>7.9250</td>\n",
       "      <td>B96 B98</td>\n",
       "      <td>S</td>\n",
       "      <td>0</td>\n",
       "      <td>2</td>\n",
       "      <td>0</td>\n",
       "      <td>0</td>\n",
       "      <td>1</td>\n",
       "    </tr>\n",
       "    <tr>\n",
       "      <th>3</th>\n",
       "      <td>4</td>\n",
       "      <td>1</td>\n",
       "      <td>1</td>\n",
       "      <td>Futrelle, Mrs. Jacques Heath (Lily May Peel)</td>\n",
       "      <td>female</td>\n",
       "      <td>35</td>\n",
       "      <td>1</td>\n",
       "      <td>0</td>\n",
       "      <td>113803</td>\n",
       "      <td>53.1000</td>\n",
       "      <td>C123</td>\n",
       "      <td>S</td>\n",
       "      <td>0</td>\n",
       "      <td>2</td>\n",
       "      <td>0</td>\n",
       "      <td>0</td>\n",
       "      <td>1</td>\n",
       "    </tr>\n",
       "    <tr>\n",
       "      <th>4</th>\n",
       "      <td>5</td>\n",
       "      <td>0</td>\n",
       "      <td>3</td>\n",
       "      <td>Allen, Mr. William Henry</td>\n",
       "      <td>male</td>\n",
       "      <td>35</td>\n",
       "      <td>0</td>\n",
       "      <td>0</td>\n",
       "      <td>373450</td>\n",
       "      <td>8.0500</td>\n",
       "      <td>B96 B98</td>\n",
       "      <td>S</td>\n",
       "      <td>1</td>\n",
       "      <td>2</td>\n",
       "      <td>0</td>\n",
       "      <td>0</td>\n",
       "      <td>1</td>\n",
       "    </tr>\n",
       "    <tr>\n",
       "      <th>...</th>\n",
       "      <td>...</td>\n",
       "      <td>...</td>\n",
       "      <td>...</td>\n",
       "      <td>...</td>\n",
       "      <td>...</td>\n",
       "      <td>...</td>\n",
       "      <td>...</td>\n",
       "      <td>...</td>\n",
       "      <td>...</td>\n",
       "      <td>...</td>\n",
       "      <td>...</td>\n",
       "      <td>...</td>\n",
       "      <td>...</td>\n",
       "      <td>...</td>\n",
       "      <td>...</td>\n",
       "      <td>...</td>\n",
       "      <td>...</td>\n",
       "    </tr>\n",
       "    <tr>\n",
       "      <th>886</th>\n",
       "      <td>887</td>\n",
       "      <td>0</td>\n",
       "      <td>2</td>\n",
       "      <td>Montvila, Rev. Juozas</td>\n",
       "      <td>male</td>\n",
       "      <td>27</td>\n",
       "      <td>0</td>\n",
       "      <td>0</td>\n",
       "      <td>211536</td>\n",
       "      <td>13.0000</td>\n",
       "      <td>B96 B98</td>\n",
       "      <td>S</td>\n",
       "      <td>1</td>\n",
       "      <td>2</td>\n",
       "      <td>0</td>\n",
       "      <td>0</td>\n",
       "      <td>1</td>\n",
       "    </tr>\n",
       "    <tr>\n",
       "      <th>887</th>\n",
       "      <td>888</td>\n",
       "      <td>1</td>\n",
       "      <td>1</td>\n",
       "      <td>Graham, Miss. Margaret Edith</td>\n",
       "      <td>female</td>\n",
       "      <td>19</td>\n",
       "      <td>0</td>\n",
       "      <td>0</td>\n",
       "      <td>112053</td>\n",
       "      <td>30.0000</td>\n",
       "      <td>B42</td>\n",
       "      <td>S</td>\n",
       "      <td>0</td>\n",
       "      <td>2</td>\n",
       "      <td>0</td>\n",
       "      <td>0</td>\n",
       "      <td>1</td>\n",
       "    </tr>\n",
       "    <tr>\n",
       "      <th>888</th>\n",
       "      <td>889</td>\n",
       "      <td>0</td>\n",
       "      <td>3</td>\n",
       "      <td>Johnston, Miss. Catherine Helen \"Carrie\"</td>\n",
       "      <td>female</td>\n",
       "      <td>29</td>\n",
       "      <td>1</td>\n",
       "      <td>2</td>\n",
       "      <td>W./C. 6607</td>\n",
       "      <td>23.4500</td>\n",
       "      <td>B96 B98</td>\n",
       "      <td>S</td>\n",
       "      <td>0</td>\n",
       "      <td>2</td>\n",
       "      <td>0</td>\n",
       "      <td>0</td>\n",
       "      <td>1</td>\n",
       "    </tr>\n",
       "    <tr>\n",
       "      <th>889</th>\n",
       "      <td>890</td>\n",
       "      <td>1</td>\n",
       "      <td>1</td>\n",
       "      <td>Behr, Mr. Karl Howell</td>\n",
       "      <td>male</td>\n",
       "      <td>26</td>\n",
       "      <td>0</td>\n",
       "      <td>0</td>\n",
       "      <td>111369</td>\n",
       "      <td>30.0000</td>\n",
       "      <td>C148</td>\n",
       "      <td>C</td>\n",
       "      <td>1</td>\n",
       "      <td>0</td>\n",
       "      <td>1</td>\n",
       "      <td>0</td>\n",
       "      <td>0</td>\n",
       "    </tr>\n",
       "    <tr>\n",
       "      <th>890</th>\n",
       "      <td>891</td>\n",
       "      <td>0</td>\n",
       "      <td>3</td>\n",
       "      <td>Dooley, Mr. Patrick</td>\n",
       "      <td>male</td>\n",
       "      <td>32</td>\n",
       "      <td>0</td>\n",
       "      <td>0</td>\n",
       "      <td>370376</td>\n",
       "      <td>7.7500</td>\n",
       "      <td>B96 B98</td>\n",
       "      <td>Q</td>\n",
       "      <td>1</td>\n",
       "      <td>1</td>\n",
       "      <td>0</td>\n",
       "      <td>1</td>\n",
       "      <td>0</td>\n",
       "    </tr>\n",
       "  </tbody>\n",
       "</table>\n",
       "<p>891 rows × 17 columns</p>\n",
       "</div>"
      ],
      "text/plain": [
       "     PassengerId  Survived  Pclass  \\\n",
       "0              1         0       3   \n",
       "1              2         1       1   \n",
       "2              3         1       3   \n",
       "3              4         1       1   \n",
       "4              5         0       3   \n",
       "..           ...       ...     ...   \n",
       "886          887         0       2   \n",
       "887          888         1       1   \n",
       "888          889         0       3   \n",
       "889          890         1       1   \n",
       "890          891         0       3   \n",
       "\n",
       "                                                  Name     Sex  Age  SibSp  \\\n",
       "0                              Braund, Mr. Owen Harris    male   22      1   \n",
       "1    Cumings, Mrs. John Bradley (Florence Briggs Th...  female   38      1   \n",
       "2                               Heikkinen, Miss. Laina  female   26      0   \n",
       "3         Futrelle, Mrs. Jacques Heath (Lily May Peel)  female   35      1   \n",
       "4                             Allen, Mr. William Henry    male   35      0   \n",
       "..                                                 ...     ...  ...    ...   \n",
       "886                              Montvila, Rev. Juozas    male   27      0   \n",
       "887                       Graham, Miss. Margaret Edith  female   19      0   \n",
       "888           Johnston, Miss. Catherine Helen \"Carrie\"  female   29      1   \n",
       "889                              Behr, Mr. Karl Howell    male   26      0   \n",
       "890                                Dooley, Mr. Patrick    male   32      0   \n",
       "\n",
       "     Parch            Ticket     Fare    Cabin Embarked  Sex_num  \\\n",
       "0        0         A/5 21171   7.2500  B96 B98        S        1   \n",
       "1        0          PC 17599  71.2833      C85        C        0   \n",
       "2        0  STON/O2. 3101282   7.9250  B96 B98        S        0   \n",
       "3        0            113803  53.1000     C123        S        0   \n",
       "4        0            373450   8.0500  B96 B98        S        1   \n",
       "..     ...               ...      ...      ...      ...      ...   \n",
       "886      0            211536  13.0000  B96 B98        S        1   \n",
       "887      0            112053  30.0000      B42        S        0   \n",
       "888      2        W./C. 6607  23.4500  B96 B98        S        0   \n",
       "889      0            111369  30.0000     C148        C        1   \n",
       "890      0            370376   7.7500  B96 B98        Q        1   \n",
       "\n",
       "     Embarked_num  E_C  E_Q  E_S  \n",
       "0               2    0    0    1  \n",
       "1               0    1    0    0  \n",
       "2               2    0    0    1  \n",
       "3               2    0    0    1  \n",
       "4               2    0    0    1  \n",
       "..            ...  ...  ...  ...  \n",
       "886             2    0    0    1  \n",
       "887             2    0    0    1  \n",
       "888             2    0    0    1  \n",
       "889             0    1    0    0  \n",
       "890             1    0    1    0  \n",
       "\n",
       "[891 rows x 17 columns]"
      ]
     },
     "execution_count": 72,
     "metadata": {},
     "output_type": "execute_result"
    }
   ],
   "source": [
    "train"
   ]
  },
  {
   "cell_type": "code",
   "execution_count": 49,
   "id": "9b5383b1",
   "metadata": {},
   "outputs": [
    {
     "data": {
      "text/plain": [
       "0      0\n",
       "1      1\n",
       "2      1\n",
       "3      1\n",
       "4      0\n",
       "      ..\n",
       "886    0\n",
       "887    1\n",
       "888    0\n",
       "889    1\n",
       "890    0\n",
       "Name: Survived, Length: 891, dtype: int64"
      ]
     },
     "execution_count": 49,
     "metadata": {},
     "output_type": "execute_result"
    }
   ],
   "source": [
    "# label(y)의 항목\n",
    "label = 'Survived'\n",
    "y = train[label]\n",
    "y"
   ]
  },
  {
   "cell_type": "code",
   "execution_count": 50,
   "id": "c897f0b2",
   "metadata": {},
   "outputs": [],
   "source": [
    "# train/validation 세트 나누기\n",
    "from sklearn.model_selection import train_test_split"
   ]
  },
  {
   "cell_type": "code",
   "execution_count": 52,
   "id": "ecb325e1",
   "metadata": {},
   "outputs": [],
   "source": [
    "# 데이터 분할할 때 꼭 순서대로 적어서 헷갈리지 않게 하기 - return받는 데이터 순서 꼭 지키기\n",
    "X_train, X_test, y_train, y_test = train_test_split(X, y, test_size=0.25, random_state=10)\n",
    "# 전체 데이터 사이즈를 1로 봤을 때 default는 0.25 \n",
    "# but, test_size를 0.2(즉, 전체 데이터의 20%)로 설정하면 train data size 자동으로 결정됨\n",
    "# shuffle = True 가 default -> shuffle 사용하면 random_state 값(=random seed) 입력해줘야 한다"
   ]
  },
  {
   "cell_type": "code",
   "execution_count": 53,
   "id": "0d85bf4f",
   "metadata": {},
   "outputs": [
    {
     "name": "stdout",
     "output_type": "stream",
     "text": [
      "(668, 7) (668,)\n",
      "(223, 7) (223,)\n"
     ]
    }
   ],
   "source": [
    "print(X_train.shape, y_train.shape)\n",
    "print(X_test.shape, y_test.shape)"
   ]
  },
  {
   "cell_type": "code",
   "execution_count": 54,
   "id": "01c69208",
   "metadata": {},
   "outputs": [],
   "source": [
    "from sklearn.linear_model import SGDClassifier"
   ]
  },
  {
   "cell_type": "code",
   "execution_count": 55,
   "id": "56a50daa",
   "metadata": {},
   "outputs": [
    {
     "data": {
      "text/plain": [
       "SGDClassifier(random_state=0)"
      ]
     },
     "execution_count": 55,
     "metadata": {},
     "output_type": "execute_result"
    }
   ],
   "source": [
    "model_sgd = SGDClassifier(random_state=0) # random_state = random_seed 값\n",
    "model_sgd"
   ]
  },
  {
   "cell_type": "code",
   "execution_count": 56,
   "id": "c81c0ccb",
   "metadata": {},
   "outputs": [
    {
     "data": {
      "text/plain": [
       "SGDClassifier(random_state=0)"
      ]
     },
     "execution_count": 56,
     "metadata": {},
     "output_type": "execute_result"
    }
   ],
   "source": [
    "model_sgd.fit(X_train, y_train) # fit은 학습시키는 모델이므로 x,y 모두 train data set을 넣어야 한다"
   ]
  },
  {
   "cell_type": "code",
   "execution_count": 57,
   "id": "1e1353de",
   "metadata": {},
   "outputs": [
    {
     "data": {
      "text/plain": [
       "array([0, 0, 0, 0, 0, 0, 0, 0, 0, 0, 0, 0, 0, 0, 0, 0, 0, 0, 0, 0, 0, 0,\n",
       "       0, 0, 0, 0, 0, 0, 0, 0, 0, 0, 0, 0, 1, 0, 0, 0, 0, 0, 0, 0, 0, 0,\n",
       "       0, 0, 0, 0, 0, 0, 0, 0, 0, 0, 0, 0, 0, 1, 0, 0, 0, 0, 1, 0, 0, 0,\n",
       "       0, 0, 0, 0, 0, 0, 0, 0, 0, 0, 0, 0, 0, 0, 0, 0, 0, 0, 0, 0, 0, 1,\n",
       "       0, 0, 0, 0, 0, 0, 0, 0, 0, 0, 0, 0, 0, 0, 0, 0, 0, 0, 0, 0, 0, 0,\n",
       "       0, 0, 0, 0, 0, 0, 0, 0, 0, 0, 0, 0, 0, 0, 0, 1, 0, 0, 0, 0, 1, 0,\n",
       "       0, 0, 0, 0, 0, 0, 0, 0, 1, 0, 0, 0, 0, 0, 0, 0, 0, 0, 0, 0, 0, 0,\n",
       "       0, 0, 0, 0, 0, 0, 0, 1, 0, 0, 0, 0, 0, 0, 0, 0, 1, 0, 0, 1, 0, 0,\n",
       "       0, 0, 0, 0, 0, 0, 0, 0, 0, 0, 0, 0, 0, 0, 0, 0, 0, 0, 0, 0, 0, 0,\n",
       "       1, 0, 0, 0, 0, 0, 0, 0, 0, 0, 0, 0, 0, 0, 0, 0, 0, 0, 1, 0, 0, 0,\n",
       "       0, 0, 0])"
      ]
     },
     "execution_count": 57,
     "metadata": {},
     "output_type": "execute_result"
    }
   ],
   "source": [
    "pred = model_sgd.predict(X_test) # fit을 통해 AI가 만들어졌음 -> 따라서, AI로 예측을 할 때에는 test data를 넣어야 한다.\n",
    "pred"
   ]
  },
  {
   "cell_type": "code",
   "execution_count": 58,
   "id": "77bd2285",
   "metadata": {},
   "outputs": [
    {
     "data": {
      "text/plain": [
       "590    0\n",
       "131    0\n",
       "628    0\n",
       "195    1\n",
       "230    1\n",
       "      ..\n",
       "12     0\n",
       "203    0\n",
       "84     1\n",
       "886    0\n",
       "759    1\n",
       "Name: Survived, Length: 223, dtype: int64"
      ]
     },
     "execution_count": 58,
     "metadata": {},
     "output_type": "execute_result"
    }
   ],
   "source": [
    "y_test # x_test, y_test 모두 train_test_split 함수에서 설정한 값으로부터 나옴(test_size=0.25)"
   ]
  },
  {
   "cell_type": "code",
   "execution_count": 59,
   "id": "6b8cbcfa",
   "metadata": {},
   "outputs": [
    {
     "data": {
      "text/plain": [
       "0.6681614349775785"
      ]
     },
     "execution_count": 59,
     "metadata": {},
     "output_type": "execute_result"
    }
   ],
   "source": [
    "# 실제값과 예측값을 맞춘 평균 비율\n",
    "(pred == y_test).mean() # pred와 y_test가 일치하는 경우가 전체의 약 67%(즉 accuracy가 67%임)"
   ]
  },
  {
   "cell_type": "code",
   "execution_count": 60,
   "id": "1ff95b85",
   "metadata": {},
   "outputs": [],
   "source": [
    "from sklearn.metrics import classification_report\n",
    "# y와 y hat을 비교해서 성능 평가해줌\n",
    "# y는 정답(즉, 우리가 원하는 값 target), y hat은 AI 알고리즘이 예측한 값 -> y - y hat = loss = cost = error "
   ]
  },
  {
   "cell_type": "code",
   "execution_count": 61,
   "id": "9917d3cd",
   "metadata": {},
   "outputs": [
    {
     "name": "stdout",
     "output_type": "stream",
     "text": [
      "              precision    recall  f1-score   support\n",
      "\n",
      "           0       0.67      0.97      0.79       147\n",
      "           1       0.58      0.09      0.16        76\n",
      "\n",
      "    accuracy                           0.67       223\n",
      "   macro avg       0.63      0.53      0.48       223\n",
      "weighted avg       0.64      0.67      0.58       223\n",
      "\n"
     ]
    }
   ],
   "source": [
    "print(classification_report(y_test, pred))\n",
    "# precision, recall, f1-score , support 모두 성능을 평가하는 알고리즘(함수)\n",
    "# f1-score의 accuracy = (pred == y_test).mean() = 0.67 "
   ]
  },
  {
   "cell_type": "code",
   "execution_count": 62,
   "id": "b8a3c6f7",
   "metadata": {},
   "outputs": [
    {
     "data": {
      "text/plain": [
       "array([0, 1])"
      ]
     },
     "execution_count": 62,
     "metadata": {},
     "output_type": "execute_result"
    }
   ],
   "source": [
    "# SGD모델 - param에 따라 학습률이 달라짐\n",
    "# paeam을 바꿔가며 최적의 값을 찾아가자\n",
    "model_sgd.classes_"
   ]
  },
  {
   "cell_type": "code",
   "execution_count": 63,
   "id": "19eb73c3",
   "metadata": {},
   "outputs": [
    {
     "data": {
      "text/plain": [
       "(1, 7)"
      ]
     },
     "execution_count": 63,
     "metadata": {},
     "output_type": "execute_result"
    }
   ],
   "source": [
    "model_sgd.coef_.shape"
   ]
  },
  {
   "cell_type": "code",
   "execution_count": 64,
   "id": "ea8bc6c9",
   "metadata": {},
   "outputs": [
    {
     "data": {
      "image/png": "[encoded data removed]",
      "text/plain": [
       "<Figure size 1080x576 with 1 Axes>"
      ]
     },
     "metadata": {
      "needs_background": "light"
     },
     "output_type": "display_data"
    }
   ],
   "source": [
    "# sgd 모델의 coef_ 속성을 plot하기\n",
    "fig = plt.figure(figsize=(15,8))\n",
    "plt.bar(X.columns, model_sgd.coef_[0,:])\n",
    "plt.xticks(rotation=90)\n",
    "plt.show()\n",
    "# 여성이 남성보다 생존율 훨씬 높았음 : 따라서, 아래 plot에서 sex가 기여도 가장 높게 나옴"
   ]
  },
  {
   "cell_type": "markdown",
   "id": "a7e84aa8",
   "metadata": {},
   "source": [
    "# [실습] 결정트리 학습모델 만들기, 예측하기, 성능평가"
   ]
  },
  {
   "cell_type": "code",
   "execution_count": 65,
   "id": "a516cacd",
   "metadata": {},
   "outputs": [
    {
     "name": "stdout",
     "output_type": "stream",
     "text": [
      "예측 정확도: 0.79\n"
     ]
    }
   ],
   "source": [
    "# 여러 classifier 를 적용해보고 가장 accuracy가 높은 classifier 채택\n",
    "from sklearn.tree import DecisionTreeClassifier\n",
    "from sklearn.metrics import accuracy_score\n",
    "dt_clf = DecisionTreeClassifier()\n",
    "dt_clf.fit(X_train, y_train)\n",
    "y_pred = dt_clf.predict(X_test)\n",
    "print('예측 정확도: %.2f' % accuracy_score(y_test, y_pred))\n",
    "# accuracy_score함수 + 소수 자릿수 지정해주면 \n",
    "# 아래의 classification_report 와 같은 기능 수행 -> 예측 정확도 출력해줌"
   ]
  },
  {
   "cell_type": "code",
   "execution_count": 66,
   "id": "28390476",
   "metadata": {},
   "outputs": [
    {
     "name": "stdout",
     "output_type": "stream",
     "text": [
      "              precision    recall  f1-score   support\n",
      "\n",
      "           0       0.83      0.86      0.85       147\n",
      "           1       0.71      0.66      0.68        76\n",
      "\n",
      "    accuracy                           0.79       223\n",
      "   macro avg       0.77      0.76      0.77       223\n",
      "weighted avg       0.79      0.79      0.79       223\n",
      "\n"
     ]
    }
   ],
   "source": [
    "# Predict를 수행하고 classification_report() 결과 출력하기\n",
    "print(classification_report(y_test, y_pred))"
   ]
  }
 ],
 "metadata": {
  "kernelspec": {
   "display_name": "MLvenv",
   "language": "python",
   "name": "mlvenv"
  },
  "language_info": {
   "codemirror_mode": {
    "name": "ipython",
    "version": 3
   },
   "file_extension": ".py",
   "mimetype": "text/x-python",
   "name": "python",
   "nbconvert_exporter": "python",
   "pygments_lexer": "ipython3",
   "version": "3.8.0"
  }
 },
 "nbformat": 4,
 "nbformat_minor": 5
}
