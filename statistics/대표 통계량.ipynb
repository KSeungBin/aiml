{
 "cells": [
  {
   "cell_type": "code",
   "execution_count": 1,
   "id": "bb8f9335",
   "metadata": {},
   "outputs": [
    {
     "name": "stdout",
     "output_type": "stream",
     "text": [
      "Collecting numpy\n",
      "  Using cached numpy-1.21.2-cp38-cp38-manylinux_2_12_x86_64.manylinux2010_x86_64.whl (15.8 MB)\n",
      "Installing collected packages: numpy\n",
      "Successfully installed numpy-1.21.2\n"
     ]
    }
   ],
   "source": [
    "!pip3.8 install numpy"
   ]
  },
  {
   "cell_type": "code",
   "execution_count": 3,
   "id": "b3df0c5b",
   "metadata": {},
   "outputs": [],
   "source": [
    "import numpy as np"
   ]
  },
  {
   "cell_type": "code",
   "execution_count": 8,
   "id": "bc3cd0a0",
   "metadata": {},
   "outputs": [
    {
     "data": {
      "text/plain": [
       "array([ 1,  2,  3,  4,  5,  6,  7,  8,  9, 10])"
      ]
     },
     "execution_count": 8,
     "metadata": {},
     "output_type": "execute_result"
    }
   ],
   "source": [
    "a = np.arange(1,11)\n",
    "a"
   ]
  },
  {
   "cell_type": "code",
   "execution_count": 9,
   "id": "14f6b362",
   "metadata": {},
   "outputs": [
    {
     "data": {
      "text/plain": [
       "array([[ 1,  2,  3,  4,  5],\n",
       "       [ 6,  7,  8,  9, 10]])"
      ]
     },
     "execution_count": 9,
     "metadata": {},
     "output_type": "execute_result"
    }
   ],
   "source": [
    "a = np.arange(1,11).reshape(2,5)\n",
    "a"
   ]
  },
  {
   "cell_type": "code",
   "execution_count": 6,
   "id": "5ab50380",
   "metadata": {},
   "outputs": [
    {
     "name": "stdout",
     "output_type": "stream",
     "text": [
      "Collecting pandas\n",
      "  Downloading pandas-1.3.3-cp38-cp38-manylinux_2_17_x86_64.manylinux2014_x86_64.whl (11.5 MB)\n",
      "\u001b[K     |████████████████████████████████| 11.5 MB 20.5 MB/s eta 0:00:01    |██████████████████████████▍     | 9.5 MB 20.5 MB/s eta 0:00:01\n",
      "\u001b[?25hRequirement already satisfied: python-dateutil>=2.7.3 in ./MLvenv/lib/python3.8/site-packages (from pandas) (2.8.2)\n",
      "Requirement already satisfied: numpy>=1.17.3 in ./MLvenv/lib/python3.8/site-packages (from pandas) (1.21.2)\n",
      "Collecting pytz>=2017.3\n",
      "  Downloading pytz-2021.3-py2.py3-none-any.whl (503 kB)\n",
      "\u001b[K     |████████████████████████████████| 503 kB 154.5 MB/s eta 0:00:01\n",
      "\u001b[?25hRequirement already satisfied: six>=1.5 in ./MLvenv/lib/python3.8/site-packages (from python-dateutil>=2.7.3->pandas) (1.16.0)\n",
      "Installing collected packages: pytz, pandas\n",
      "Successfully installed pandas-1.3.3 pytz-2021.3\n"
     ]
    }
   ],
   "source": [
    "!pip3.8 install pandas"
   ]
  },
  {
   "cell_type": "code",
   "execution_count": 7,
   "id": "805d3d92",
   "metadata": {},
   "outputs": [],
   "source": [
    "import pandas as pd"
   ]
  },
  {
   "cell_type": "code",
   "execution_count": 14,
   "id": "fd68ac96",
   "metadata": {},
   "outputs": [
    {
     "data": {
      "text/html": [
       "<div>\n",
       "<style scoped>\n",
       "    .dataframe tbody tr th:only-of-type {\n",
       "        vertical-align: middle;\n",
       "    }\n",
       "\n",
       "    .dataframe tbody tr th {\n",
       "        vertical-align: top;\n",
       "    }\n",
       "\n",
       "    .dataframe thead th {\n",
       "        text-align: right;\n",
       "    }\n",
       "</style>\n",
       "<table border=\"1\" class=\"dataframe\">\n",
       "  <thead>\n",
       "    <tr style=\"text-align: right;\">\n",
       "      <th></th>\n",
       "      <th>0</th>\n",
       "      <th>1</th>\n",
       "      <th>2</th>\n",
       "      <th>3</th>\n",
       "      <th>4</th>\n",
       "    </tr>\n",
       "  </thead>\n",
       "  <tbody>\n",
       "    <tr>\n",
       "      <th>0</th>\n",
       "      <td>1</td>\n",
       "      <td>2</td>\n",
       "      <td>3</td>\n",
       "      <td>4</td>\n",
       "      <td>5</td>\n",
       "    </tr>\n",
       "    <tr>\n",
       "      <th>1</th>\n",
       "      <td>6</td>\n",
       "      <td>7</td>\n",
       "      <td>8</td>\n",
       "      <td>9</td>\n",
       "      <td>10</td>\n",
       "    </tr>\n",
       "  </tbody>\n",
       "</table>\n",
       "</div>"
      ],
      "text/plain": [
       "   0  1  2  3   4\n",
       "0  1  2  3  4   5\n",
       "1  6  7  8  9  10"
      ]
     },
     "execution_count": 14,
     "metadata": {},
     "output_type": "execute_result"
    }
   ],
   "source": [
    "data = pd.DataFrame(a) \n",
    "data"
   ]
  },
  {
   "cell_type": "code",
   "execution_count": 2,
   "id": "c2b6783b",
   "metadata": {},
   "outputs": [],
   "source": [
    "import numpy as np\n",
    "import pandas as pd"
   ]
  },
  {
   "cell_type": "code",
   "execution_count": 3,
   "id": "51918787",
   "metadata": {},
   "outputs": [
    {
     "name": "stdout",
     "output_type": "stream",
     "text": [
      "3.0\n",
      "3.0\n",
      "3.0\n"
     ]
    }
   ],
   "source": [
    "# 산술 평균 계산\n",
    "x = [1,2,3,4,5]\n",
    "print(np.mean(x))\n",
    "print(np.array(x).mean())\n",
    "print(pd.Series(x).mean())"
   ]
  },
  {
   "cell_type": "code",
   "execution_count": 4,
   "id": "ac7720fd",
   "metadata": {},
   "outputs": [
    {
     "name": "stdout",
     "output_type": "stream",
     "text": [
      "0.4\n"
     ]
    }
   ],
   "source": [
    "# 이진 변수에 대한 평균\n",
    "x = [1,0,0,0,1]\n",
    "print(np.mean(x))"
   ]
  },
  {
   "cell_type": "code",
   "execution_count": 24,
   "id": "e2a66f66",
   "metadata": {},
   "outputs": [
    {
     "name": "stdout",
     "output_type": "stream",
     "text": [
      "0.21897810218978103\n",
      "0.21897810218978103\n"
     ]
    }
   ],
   "source": [
    "# 조화 평균 : 변화량의 평균을 구할 때 사용\n",
    "from scipy.stats import *\n",
    "x = np.array([0.1,0.2,0.3,0.4,0.5])\n",
    "print(len(x) / np.sum(1/x))\n",
    "print(hmean(x)) # 역수의 평균의 역수를 구할 때에만 hmean을 사용"
   ]
  },
  {
   "cell_type": "code",
   "execution_count": 7,
   "id": "5c0868de",
   "metadata": {},
   "outputs": [
    {
     "name": "stdout",
     "output_type": "stream",
     "text": [
      "1952250.918709312\n"
     ]
    }
   ],
   "source": [
    "# 절사 평균이 필요한 이유\n",
    "income = np.random.normal(2000000,500000,100)\n",
    "print(np.mean(income))"
   ]
  },
  {
   "cell_type": "code",
   "execution_count": 8,
   "id": "a4308d6c",
   "metadata": {},
   "outputs": [
    {
     "name": "stdout",
     "output_type": "stream",
     "text": [
      "1952250.918709312\n"
     ]
    }
   ],
   "source": [
    "imcome = np.append(income, 10**9)\n",
    "print(np.mean(income))"
   ]
  },
  {
   "cell_type": "code",
   "execution_count": 25,
   "id": "0598d860",
   "metadata": {},
   "outputs": [
    {
     "data": {
      "text/plain": [
       "1944868.8105022765"
      ]
     },
     "execution_count": 25,
     "metadata": {},
     "output_type": "execute_result"
    }
   ],
   "source": [
    "trim_mean(income,0.2) #[20~80%]"
   ]
  },
  {
   "cell_type": "code",
   "execution_count": 11,
   "id": "3456e23c",
   "metadata": {},
   "outputs": [
    {
     "name": "stdout",
     "output_type": "stream",
     "text": [
      "Collecting scipy\n",
      "  Downloading scipy-1.7.1-cp38-cp38-manylinux_2_5_x86_64.manylinux1_x86_64.whl (28.4 MB)\n",
      "\u001b[K     |████████████████████████████████| 28.4 MB 19.6 MB/s eta 0:00:01\n",
      "\u001b[?25hRequirement already satisfied: numpy<1.23.0,>=1.16.5 in ./MLvenv/lib/python3.8/site-packages (from scipy) (1.21.2)\n",
      "Installing collected packages: scipy\n",
      "Successfully installed scipy-1.7.1\n",
      "Note: you may need to restart the kernel to use updated packages.\n"
     ]
    }
   ],
   "source": [
    "pip install scipy"
   ]
  },
  {
   "cell_type": "code",
   "execution_count": 17,
   "id": "32516767",
   "metadata": {},
   "outputs": [
    {
     "name": "stdout",
     "output_type": "stream",
     "text": [
      "[44 47 64 ... 39 72 48]\n",
      "평균값:  49.17\n",
      "중앙값:  49.0\n",
      "최빈값: 3 (125)\n"
     ]
    }
   ],
   "source": [
    "# 실습 - 대표 통계량\n",
    "from scipy import stats\n",
    "np.random.seed(0) # randim.seed를 주는 이유: 아래 randint로 만든 값을 계속 유지하기 위해\n",
    "                  # 머신러닝 할 때 생성한 데이터를 계속 유지해야 모델 만들 수 있음\n",
    "                  # 다음에 똑같은 데이터 생성하려면 반드시 똑같은 seed 숫자 줘야 함 = 0\n",
    "data = np.random.randint(0,100,10000)\n",
    "print(data)\n",
    "mean = np.mean(data) ; print(\"평균값: \", mean.round(2))\n",
    "median = np.median(data) ; print(\"중앙값: \", median)\n",
    "mode = stats.mode(data) ; print(\"최빈값: {} ({})\".format(mode[0][0],mode[1][0]))"
   ]
  },
  {
   "cell_type": "code",
   "execution_count": 21,
   "id": "31fee803",
   "metadata": {},
   "outputs": [
    {
     "name": "stdout",
     "output_type": "stream",
     "text": [
      "0       44\n",
      "1       47\n",
      "2       64\n",
      "3       67\n",
      "4       67\n",
      "        ..\n",
      "9995     7\n",
      "9996    29\n",
      "9997    39\n",
      "9998    72\n",
      "9999    48\n",
      "Length: 10000, dtype: int64\n",
      "평균값:49.17\n",
      "중앙값:  49.0\n",
      "최빈값: 0    3\n",
      "dtype: int64\n"
     ]
    }
   ],
   "source": [
    "# pandas로 대푯값 구하기\n",
    "import pandas as pd\n",
    "import numpy as np\n",
    "np.random.seed(0)\n",
    "data = np.random.randint(0,100,10000)\n",
    "df = pd.Series(data)\n",
    "print(df)\n",
    "mean = df.mean() ; print(\"평균값:{:.2f}\".format(mean)) # 또는 round(mean,2) 도 ok\n",
    "median = df.median() ; print(\"중앙값: \", median)\n",
    "mode = df.mode() ; print(\"최빈값:\",mode) \n",
    "# scipy는 통계쪽에 최적화되어 있어 빈도수가 동일한 숫자가 여러 개이면 모두 반환해줌\n",
    "#        + 최빈 숫자와 빈도수를 모두 출력 가능\n",
    "# pandas는 최빈 숫자가 여러 개인 경우 사용하기 곤란 + 빈도수는 출력해주지 않음\n",
    "#        + 최빈 숫자와 해당 index만 출력해 줌"
   ]
  },
  {
   "cell_type": "code",
   "execution_count": null,
   "id": "a8986272",
   "metadata": {},
   "outputs": [],
   "source": []
  }
 ],
 "metadata": {
  "kernelspec": {
   "display_name": "MLvenv",
   "language": "python",
   "name": "mlvenv"
  },
  "language_info": {
   "codemirror_mode": {
    "name": "ipython",
    "version": 3
   },
   "file_extension": ".py",
   "mimetype": "text/x-python",
   "name": "python",
   "nbconvert_exporter": "python",
   "pygments_lexer": "ipython3",
   "version": "3.8.0"
  }
 },
 "nbformat": 4,
 "nbformat_minor": 5
}
