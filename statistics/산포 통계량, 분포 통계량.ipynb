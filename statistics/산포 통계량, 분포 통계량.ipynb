{
 "cells": [
  {
   "cell_type": "markdown",
   "id": "34a339af",
   "metadata": {},
   "source": [
    "# 산포 통계량"
   ]
  },
  {
   "cell_type": "code",
   "execution_count": 1,
   "id": "b202e3ec",
   "metadata": {},
   "outputs": [
    {
     "name": "stdout",
     "output_type": "stream",
     "text": [
      "Requirement already satisfied: scikit-learn in ./MLvenv/lib/python3.8/site-packages (1.0)\n",
      "Requirement already satisfied: threadpoolctl>=2.0.0 in ./MLvenv/lib/python3.8/site-packages (from scikit-learn) (3.0.0)\n",
      "Requirement already satisfied: numpy>=1.14.6 in ./MLvenv/lib/python3.8/site-packages (from scikit-learn) (1.21.2)\n",
      "Requirement already satisfied: scipy>=1.1.0 in ./MLvenv/lib/python3.8/site-packages (from scikit-learn) (1.7.1)\n",
      "Requirement already satisfied: joblib>=0.11 in ./MLvenv/lib/python3.8/site-packages (from scikit-learn) (1.0.1)\n"
     ]
    }
   ],
   "source": [
    "!python3.8 -m pip install -U scikit-learn"
   ]
  },
  {
   "cell_type": "code",
   "execution_count": 2,
   "id": "3b8864d8",
   "metadata": {},
   "outputs": [],
   "source": [
    "import numpy as np\n",
    "from scipy.stats import *\n",
    "import pandas as pd"
   ]
  },
  {
   "cell_type": "code",
   "execution_count": 3,
   "id": "f3107b3d",
   "metadata": {},
   "outputs": [
    {
     "name": "stdout",
     "output_type": "stream",
     "text": [
      "2.5\n",
      "2.0\n",
      "2.0\n"
     ]
    }
   ],
   "source": [
    "# 분산 계산\n",
    "x = [1,2,3,4,5]\n",
    "print(np.var(x, ddof = 1)) # 자유도 1이므로 sample data 사용한 것. 따라서, 분모는 n-1\n",
    "print(np.array(x).var())   \n",
    "print(pd.Series(x).var(ddof = 0)) # 자유도 0이므로 모집단 사용한 것. 모분산은 분모가 n"
   ]
  },
  {
   "cell_type": "code",
   "execution_count": 4,
   "id": "36484d80",
   "metadata": {},
   "outputs": [
    {
     "name": "stdout",
     "output_type": "stream",
     "text": [
      "1.5811388300841898\n",
      "1.4142135623730951\n",
      "1.5811388300841898\n"
     ]
    }
   ],
   "source": [
    "# 표준편차 계산\n",
    "x = [1,2,3,4,5]\n",
    "print(np.std(x, ddof = 1))\n",
    "print(np.array(x).std(ddof=0))\n",
    "print(pd.Series(x).std(ddof = 1))"
   ]
  },
  {
   "cell_type": "code",
   "execution_count": 5,
   "id": "2830d1f7",
   "metadata": {},
   "outputs": [
    {
     "name": "stdout",
     "output_type": "stream",
     "text": [
      "1.5811388300841898\n",
      "15.811388300841896\n",
      "0.47140452079103173\n",
      "0.4714045207910317\n",
      "0.5270462766947299\n",
      "0.5270462766947299\n"
     ]
    }
   ],
   "source": [
    "# 변동계수 = 표준편차 / 평균\n",
    "# 분산과 표준편차 모두 값의 스케일에 크게 영향을 받아 '상대적인' 산포를 보여주는데 부적합\n",
    "x1 = np.array([1,2,3,4,5])\n",
    "x2 = x1 * 10\n",
    "print(np.std(x1, ddof = 1))\n",
    "print(np.std(x2, ddof = 1))\n",
    "print(variation(x1))\n",
    "print(variation(x2))\n",
    "print(np.std(x1, ddof = 1)/np.mean(x1)) # 따라서, 변동 계수를 사용한다\n",
    "print(np.std(x2, ddof = 1)/np.mean(x2))\n"
   ]
  },
  {
   "cell_type": "code",
   "execution_count": 6,
   "id": "047421d1",
   "metadata": {},
   "outputs": [
    {
     "name": "stdout",
     "output_type": "stream",
     "text": [
      "[-1.41421356 -0.70710678  0.          0.70710678  1.41421356]\n",
      "[-1.41421356 -0.70710678  0.          0.70710678  1.41421356]\n"
     ]
    }
   ],
   "source": [
    "# 스케일링(scaling) : 둘 이상의 변수의 값을 상대적으로 비교하기 위해, 데이터 수준을 맞춰줌\n",
    "x1 = np.array([1,2,3,4,5])\n",
    "x2 = np.array([10,20,30,40,50])\n",
    "# standard scaling\n",
    "z1 = (x1 - x1.mean()) / x1.std()\n",
    "z2 = (x2 - x2.mean()) / x2.std()\n",
    "print(z1)\n",
    "print(z2)\n"
   ]
  },
  {
   "cell_type": "code",
   "execution_count": 7,
   "id": "730a31ff",
   "metadata": {},
   "outputs": [
    {
     "name": "stdout",
     "output_type": "stream",
     "text": [
      "[0.   0.25 0.5  0.75 1.  ]\n",
      "[0.   0.25 0.5  0.75 1.  ]\n"
     ]
    }
   ],
   "source": [
    "# min-max scaling\n",
    "z1 = (x1 - x1.min()) / (x1.max()-x1.min())\n",
    "z2 = (x2 - x2.min()) / (x2.max()-x2.min())\n",
    "print(z1)\n",
    "print(z2)"
   ]
  },
  {
   "cell_type": "code",
   "execution_count": 8,
   "id": "e979b24f",
   "metadata": {},
   "outputs": [
    {
     "data": {
      "text/html": [
       "<div>\n",
       "<style scoped>\n",
       "    .dataframe tbody tr th:only-of-type {\n",
       "        vertical-align: middle;\n",
       "    }\n",
       "\n",
       "    .dataframe tbody tr th {\n",
       "        vertical-align: top;\n",
       "    }\n",
       "\n",
       "    .dataframe thead th {\n",
       "        text-align: right;\n",
       "    }\n",
       "</style>\n",
       "<table border=\"1\" class=\"dataframe\">\n",
       "  <thead>\n",
       "    <tr style=\"text-align: right;\">\n",
       "      <th></th>\n",
       "      <th>X1</th>\n",
       "      <th>X2</th>\n",
       "    </tr>\n",
       "  </thead>\n",
       "  <tbody>\n",
       "    <tr>\n",
       "      <th>0</th>\n",
       "      <td>1</td>\n",
       "      <td>10</td>\n",
       "    </tr>\n",
       "    <tr>\n",
       "      <th>1</th>\n",
       "      <td>2</td>\n",
       "      <td>20</td>\n",
       "    </tr>\n",
       "    <tr>\n",
       "      <th>2</th>\n",
       "      <td>3</td>\n",
       "      <td>30</td>\n",
       "    </tr>\n",
       "    <tr>\n",
       "      <th>3</th>\n",
       "      <td>4</td>\n",
       "      <td>40</td>\n",
       "    </tr>\n",
       "    <tr>\n",
       "      <th>4</th>\n",
       "      <td>5</td>\n",
       "      <td>50</td>\n",
       "    </tr>\n",
       "  </tbody>\n",
       "</table>\n",
       "</div>"
      ],
      "text/plain": [
       "   X1  X2\n",
       "0   1  10\n",
       "1   2  20\n",
       "2   3  30\n",
       "3   4  40\n",
       "4   5  50"
      ]
     },
     "execution_count": 8,
     "metadata": {},
     "output_type": "execute_result"
    }
   ],
   "source": [
    "# sklearn을 이용한 스케일링 : numpy나 scipy와 달리 스케일링에 수식 입력 필요 없음. 함수만으로 자동 스케일링\n",
    "X = pd.DataFrame({\"X1\":[1,2,3,4,5], \"X2\":[10,20,30,40,50]})\n",
    "X"
   ]
  },
  {
   "cell_type": "code",
   "execution_count": 9,
   "id": "586d837f",
   "metadata": {},
   "outputs": [
    {
     "data": {
      "text/html": [
       "<div>\n",
       "<style scoped>\n",
       "    .dataframe tbody tr th:only-of-type {\n",
       "        vertical-align: middle;\n",
       "    }\n",
       "\n",
       "    .dataframe tbody tr th {\n",
       "        vertical-align: top;\n",
       "    }\n",
       "\n",
       "    .dataframe thead th {\n",
       "        text-align: right;\n",
       "    }\n",
       "</style>\n",
       "<table border=\"1\" class=\"dataframe\">\n",
       "  <thead>\n",
       "    <tr style=\"text-align: right;\">\n",
       "      <th></th>\n",
       "      <th>X1</th>\n",
       "      <th>X2</th>\n",
       "    </tr>\n",
       "  </thead>\n",
       "  <tbody>\n",
       "    <tr>\n",
       "      <th>0</th>\n",
       "      <td>0.00</td>\n",
       "      <td>0.00</td>\n",
       "    </tr>\n",
       "    <tr>\n",
       "      <th>1</th>\n",
       "      <td>0.25</td>\n",
       "      <td>0.25</td>\n",
       "    </tr>\n",
       "    <tr>\n",
       "      <th>2</th>\n",
       "      <td>0.50</td>\n",
       "      <td>0.50</td>\n",
       "    </tr>\n",
       "    <tr>\n",
       "      <th>3</th>\n",
       "      <td>0.75</td>\n",
       "      <td>0.75</td>\n",
       "    </tr>\n",
       "    <tr>\n",
       "      <th>4</th>\n",
       "      <td>1.00</td>\n",
       "      <td>1.00</td>\n",
       "    </tr>\n",
       "  </tbody>\n",
       "</table>\n",
       "</div>"
      ],
      "text/plain": [
       "     X1    X2\n",
       "0  0.00  0.00\n",
       "1  0.25  0.25\n",
       "2  0.50  0.50\n",
       "3  0.75  0.75\n",
       "4  1.00  1.00"
      ]
     },
     "execution_count": 9,
     "metadata": {},
     "output_type": "execute_result"
    }
   ],
   "source": [
    "from sklearn.preprocessing import MinMaxScaler\n",
    "scaler = MinMaxScaler()  # 인스턴스화\n",
    "Z = scaler.fit_transform(X)  # fit_transform => ndarray\n",
    "pd.DataFrame(Z, columns = ['X1','X2'])"
   ]
  },
  {
   "cell_type": "code",
   "execution_count": 10,
   "id": "086c63fb",
   "metadata": {},
   "outputs": [
    {
     "data": {
      "text/plain": [
       "array([ 92.9029455 ,  97.63506186, 114.64567474, 104.73151789,\n",
       "        91.33927899, 120.73913312, 123.39251224, 109.99504131,\n",
       "       134.24357444,  86.2852898 ,  93.33943107, 144.47067595,\n",
       "       104.78749594, 116.23432748,  80.45531569,  93.81022676,\n",
       "        89.92724223, 111.82618888, 116.06017348, 104.2805871 ,\n",
       "        84.1148671 , 101.42683036, 102.11497621,  90.70762413,\n",
       "        42.1561536 , 118.4695066 , 105.97274451,  99.98277381,\n",
       "        81.49398099, 112.07202634, 110.00525332, 118.07649097,\n",
       "        97.88545542, 126.48275466, 106.44236562, 125.31795649,\n",
       "       140.80149643,  90.75770892,  97.47911858, 129.57940681,\n",
       "        80.06304647, 129.86558884,  85.24492951,  92.10963485,\n",
       "       110.28532843,  93.29438479,  86.5869944 , 116.24263924,\n",
       "       113.7659437 , 108.63526135,  75.44993392, 108.74064809,\n",
       "        99.37536625,  96.63241552,  87.02245723, 109.28696523,\n",
       "        80.99381252, 107.39696498, 138.74652626,  85.62173741,\n",
       "       106.24893479,  77.55870334,  86.70571355,  85.38594711,\n",
       "        88.63275099,  67.52810064, 105.63627177,  90.21299955,\n",
       "        69.12042505, 112.74971866,  86.87743666, 112.91949559,\n",
       "        57.28278498,  97.33371387,  85.51550414, 103.13242714,\n",
       "        99.77886761, 133.60781463, 129.3552832 ,  99.90531337,\n",
       "        78.64293816, 111.87259917, 111.95208353,  85.7100022 ,\n",
       "       119.77617062, 106.61417439, 119.39198634,  68.31759866,\n",
       "       124.3245709 ,  85.80337164, 128.157081  ,  95.91542521,\n",
       "       123.28035724,  92.95847944, 117.4077037 ,  93.26528861,\n",
       "       106.56435764, 102.23533267,  95.36497016, 128.25453441,\n",
       "        92.03025713,  81.08205998,  94.19281985, 126.13582445,\n",
       "        75.95569346,  98.76104089,  92.45851342,  99.39531106,\n",
       "       130.98031183, 105.16415864,  97.00940167,  76.96179736,\n",
       "       113.18350168, 112.96864617,  85.62829203, 104.17995205,\n",
       "        94.18581909,  90.07599793,  94.35963316, 102.60605219,\n",
       "        80.20780964,  93.58879783,  86.32954549, 115.4821352 ,\n",
       "        78.5570047 , 111.57130159, 102.17079114,  84.91412654,\n",
       "       102.46642011,  86.73634946,  78.2827561 , 106.40709278,\n",
       "       106.19219557, 116.16256218, 119.34598926, 101.59015174,\n",
       "        94.01625456,  94.61404689,  80.36966563,  53.61181079,\n",
       "       118.08014243, 109.60099935,  85.01464729,  87.62414216,\n",
       "       118.44200183,  75.64754537, 114.8662687 ,  57.72108734,\n",
       "        89.06764268,  96.35297971,  97.99718681,  81.49821711,\n",
       "        92.9782436 , 107.06277179,  87.19293917, 118.49816226,\n",
       "       103.42380233, 108.53350604, 120.48491998,  70.13835485,\n",
       "       141.84532289, 120.14702595,  97.56478078,  64.66491483,\n",
       "       135.72599258, 110.73402567,  94.90428744, 127.78789241,\n",
       "        78.76580428, 102.67683561, 107.38971222, 113.06593022,\n",
       "        78.9964954 ,  93.66613953,  80.12350568, 100.0808783 ,\n",
       "        76.14728061,  94.83285004,  81.58105771,  84.44246639,\n",
       "       147.91482249, 120.48033076, 103.33974147,  87.14713014,\n",
       "       111.02522976,  74.11463378,  74.07561441, 111.44790266,\n",
       "       108.76197671,  78.45360073,  91.30859126, 107.66857402,\n",
       "       118.25938372,  91.23997672,  93.9479576 , 106.93580286,\n",
       "        91.25612182,  83.49414381, 115.32803185,  88.93470599,\n",
       "        25.58241743, 142.48390672, 135.13704428, 114.86906369,\n",
       "       105.71322992,  94.65089422, 127.61117807,  88.80159007,\n",
       "       108.14805183, 135.1088062 ,  74.60892016, 111.34406036,\n",
       "       129.16727534,  96.55343518, 102.3927237 , 101.48887357,\n",
       "        93.06677244, 112.78163112,  96.5695715 ,  74.34732865,\n",
       "        83.72064035, 101.32484981,  95.79187147, 120.43118058,\n",
       "       108.89849307,  90.77623658,  86.40867642, 106.72596415,\n",
       "       102.53698961,  95.96744123, 111.13620622,  99.27330591,\n",
       "       124.99756603, 100.73057777,  80.52126472,  90.49856049,\n",
       "       112.01554313,  97.17726021,  77.9213374 ,  68.06548922,\n",
       "       105.53996637,  81.821143  , 107.29687437,  71.18354253,\n",
       "        62.37115823,  68.83232107, 106.03338087,  90.75690505,\n",
       "       104.77804048, 130.70029037, 113.94880268,  84.13323884,\n",
       "       111.01262828, 119.75230044, 113.26387503, 109.79087559,\n",
       "        71.5594887 , 112.80254933,  99.86323197, 103.79813492,\n",
       "       128.28563643, 110.11990296,  87.67955078,  94.73026548,\n",
       "       111.58685852, 116.99960588, 107.92402621,  98.14943791,\n",
       "       113.37253873,  86.5922045 ,  83.10388671, 112.51612143,\n",
       "       107.01679685,  94.25455805, 103.19144992,  98.63381156,\n",
       "        85.39962026, 115.36276807, 108.34855746,  88.7028417 ,\n",
       "        90.9185712 ,  86.26508152,  87.65595009, 128.46090651,\n",
       "       114.68085386,  93.6559582 ,  90.44802582,  82.49634497,\n",
       "       131.78920928, 129.25906262,  92.31993782, 101.08335097,\n",
       "       115.36475387,  95.03670983, 109.00524439, 115.75887102,\n",
       "        84.21222611, 129.89250815, 125.88411007, 109.98176703,\n",
       "        81.61924719, 110.71238103, 113.51242055, 106.60566491,\n",
       "       109.75421299, 120.81370722, 113.75361886, 110.57828334,\n",
       "        68.70097786,  84.28993483,  86.35381982,  92.53401363,\n",
       "        76.82776001,  95.37764363,  97.58452177,  77.63138577,\n",
       "       124.41226752, 129.7432825 , 114.39343888,  40.53143385,\n",
       "       116.3780607 ,  75.46733316, 145.65918884, 114.31753944,\n",
       "        95.02556396,  83.89281303, 103.34195702, 103.00129136,\n",
       "        94.71514841, 121.57208707, 106.63349904, 108.49505688,\n",
       "       104.54546872,  87.63901449, 108.29785019, 128.24363786,\n",
       "       120.56408727, 112.85448014, 118.6807955 ,  97.4309849 ,\n",
       "       104.76156903, 124.41776226, 118.05391427, 104.60498639,\n",
       "       126.42641187, 121.63635525,  93.98891793,  92.89711762,\n",
       "       119.50013026,  83.82352499, 104.39780109,  95.98767577,\n",
       "        73.79245973, 102.95091808,  86.1522718 , 111.03165837,\n",
       "        88.87553918,  90.20857103,  53.52402827, 106.23383839,\n",
       "        84.23462563,  69.28435911, 110.32191184,  87.20025935,\n",
       "        83.5565325 ,  95.06422099, 136.05596547,  81.10599554,\n",
       "       100.76779825,  61.47289376,  87.83616897, 104.81925196,\n",
       "        91.37400632, 115.13291276, 127.17073824, 106.07075395,\n",
       "       110.6132741 ,  86.31976745,  99.56006898,  85.66922905,\n",
       "        84.53199745,  82.81492961, 116.08682519,  83.06013901,\n",
       "       165.15739257, 113.68297475, 106.95742722, 124.953592  ,\n",
       "       104.33000794,  92.52217831,  56.45820439,  74.17069915,\n",
       "        95.97673844,  87.36650552, 119.54259179, 112.63011711,\n",
       "       130.70545793, 139.00405336, 112.54725246, 116.29180708,\n",
       "       114.06748629, 122.195129  ,  99.32032574, 146.03407583,\n",
       "       119.55996277, 114.88438314, 126.96630116,  92.44385445,\n",
       "        96.10150684,  55.46754623, 124.94729443,  85.65793225,\n",
       "       115.84672499,  66.03104205, 122.1879812 ,  93.89463414,\n",
       "        96.79662637,  78.3755232 , 122.36723861,  87.80286966,\n",
       "        82.4934948 ,  82.48923904,  83.21144885,  80.10887457,\n",
       "        99.3929809 , 116.81544862, 120.61008056, 110.55985309,\n",
       "        57.5362769 ,  60.10551576, 124.6413839 ,  87.26707148,\n",
       "       114.79548976, 130.91383758,  68.31467711,  82.48527239,\n",
       "       114.46614545, 138.74897977, 100.64284156, 110.82507117,\n",
       "        94.07986626, 107.91803152,  75.93129037,  76.12204645,\n",
       "        79.56088411,  62.47201901, 114.63734744, 110.67229026,\n",
       "        81.31431252,  71.08635989, 136.27412026, 104.87000219,\n",
       "        93.3979652 , 107.70310979, 110.54035055, 103.20968608,\n",
       "       105.09476164, 114.74205698,  75.30181818, 110.78485333,\n",
       "        98.60637076, 136.02764656,  91.64334769,  75.79081505,\n",
       "        73.03905723, 100.17485052, 114.10019338, 135.80744203,\n",
       "        72.15625057,  91.63584711, 124.84230997,  72.66971572,\n",
       "        89.87574065, 142.59762611,  97.07345716, 114.83146279,\n",
       "       109.81745331, 118.11608406,  90.7220846 , 128.86063365,\n",
       "        95.07231845, 131.47951848, 103.29577049, 121.79342974,\n",
       "       131.56188715, 140.45047301, 100.89157295, 102.04120761,\n",
       "       110.6637031 , 110.38598174,  94.11611553, 114.70679387,\n",
       "       106.43577178,  84.51770079, 124.95254455, 120.20004897,\n",
       "        86.65470482,  72.31317739, 101.28697817, 130.57914824,\n",
       "       130.69125965,  79.91187492, 145.9574093 ,  79.52356174,\n",
       "        82.73226363,  77.46948221,  94.02353747,  81.52363243,\n",
       "        95.86812311, 104.49460272, 106.0029291 ,  98.83629676,\n",
       "        72.8544666 ,  60.66573641,  86.59447717, 105.205957  ,\n",
       "        90.90060441, 132.06829634, 100.65017259,  76.30739698,\n",
       "        96.23630653, 132.10359395, 119.03928493, 120.30099258,\n",
       "        98.72519788, 104.55263997, 102.1715422 , 104.83201408,\n",
       "       108.46976851,  61.03146523, 111.44515177, 131.90325032,\n",
       "       107.73513454, 119.97957129,  80.90249171, 100.8800593 ,\n",
       "        94.6501917 ,  93.93546496,  93.72651006,  92.90378643,\n",
       "        65.77813617,  93.28406079, 124.67346041,  78.52775146,\n",
       "        76.68114474, 110.89278566,  89.54610255,  79.42438814,\n",
       "        91.99438794,  69.02402333, 112.40700038, 125.48207068,\n",
       "       113.56287035,  61.22927032,  95.21458138, 102.37001498,\n",
       "       110.92394385, 143.96110411,  82.81056645, 100.69687218,\n",
       "       100.6034559 , 102.77468058,  93.007119  ,  71.19849883,\n",
       "        87.48563518,  80.41089543, 116.33276865,  80.7960846 ,\n",
       "       113.63670654,  58.06520012,  77.76936121, 107.31946549,\n",
       "       128.19334898,  97.56039679,  68.88664584, 119.65314796,\n",
       "       107.63882003,  92.55993265, 111.86201358, 100.35287055,\n",
       "        89.21170425, 121.85206732, 113.60231059, 103.70806212,\n",
       "        60.66115072,  91.90348935,  72.70763398, 112.22201521,\n",
       "        72.06309582,  56.66703814, 124.66224643,  90.01494257,\n",
       "       108.45339425, 105.03880615,  98.48899827,  80.96554433,\n",
       "       107.8281099 , 110.07475128,  91.33147481, 110.86246028,\n",
       "       132.17085277,  96.87940946, 135.42487696,  72.5644807 ,\n",
       "        86.23292223, 121.0482321 ,  86.21535615, 133.37968583,\n",
       "        82.27550251, 103.52779429,  82.17629553, 109.70420346,\n",
       "       105.58707267, 133.59597609, 111.20117639, 101.11646961,\n",
       "       103.48413127,  88.5993446 , 102.6968199 ,  96.5354616 ,\n",
       "        99.04541726,  84.67496916, 121.25548355, 105.22055654,\n",
       "       137.79778703, 119.12600538, 111.71087024,  99.77176463,\n",
       "        89.73376627,  82.54901537, 106.62420451, 122.34767383,\n",
       "        86.33768361, 118.39687262,  86.77283256, 108.77101016,\n",
       "        95.60974545, 117.64312262,  91.94817473, 116.60284083,\n",
       "       130.0955179 , 138.88358126, 142.5259739 , 114.74438092,\n",
       "       103.73020851,  64.49118448,  88.87092217, 111.73603042,\n",
       "        53.03529941, 123.60152848, 116.82199084,  67.19157164,\n",
       "        62.47227746,  95.33960868,  82.47036459, 113.4721153 ,\n",
       "       105.58458431,  88.3096061 ,  92.67108218,  77.57462798,\n",
       "       131.26524909, 100.9198166 ,  81.90196325, 100.57098442,\n",
       "        87.427907  , 105.25423425,  76.05367592, 115.83681985,\n",
       "        91.95136633, 125.45465867,  85.42848911, 105.43157375,\n",
       "       101.04367375,  99.2877485 ,  51.83476054,  87.44483934,\n",
       "        51.48355732,  85.08386479, 101.95714309,  85.69876007,\n",
       "       128.25214786, 130.07596008, 111.2971257 , 120.04844052,\n",
       "        58.81658204,  90.08105746,  83.92340002,  82.8120351 ,\n",
       "       110.79698971,  97.44595841, 119.89355158, 121.53161927,\n",
       "       114.99118195,  91.00816333,  94.07077757,  84.1442634 ,\n",
       "        81.36375235, 100.32460943, 101.03949172, 117.66072139,\n",
       "        75.79963928,  86.87237452,  76.47071468, 122.88131355,\n",
       "       104.74642436,  80.50585232, 100.57239905, 131.49971095,\n",
       "        75.39920789,  64.9867268 ,  86.26631104,  76.20232329,\n",
       "       110.77013459,  52.51719242,  95.05623673, 104.25676464,\n",
       "        86.51310308, 114.21599165,  82.51607856, 137.4159859 ,\n",
       "        87.40071606,  96.26030997,  82.49539696,  88.61049072,\n",
       "        87.96108043,  81.72682053, 130.20367624,  98.37147009,\n",
       "       122.16655205,  85.96325976, 129.72789731, 111.78588238,\n",
       "        72.67320096, 101.5251422 ,  81.97018688,  97.88581126,\n",
       "       103.1726246 ,  89.49490751,  97.83623164,  98.93997506,\n",
       "       112.75456793,  89.9332893 , 103.81223712,  82.00830873,\n",
       "        63.1808639 , 121.24831363,  83.79192335,  86.76889685,\n",
       "       115.04870143, 111.21921138,  51.98687709, 101.57155183,\n",
       "       110.97854718, 104.43530706,  61.88897977, 124.81946907,\n",
       "        77.25663894, 113.14088018, 100.58264243, 106.48387282,\n",
       "        90.61584685,  61.23708791, 107.2801112 , 108.80663269,\n",
       "        98.54976988, 113.41165499,  85.80220789,  87.16963154,\n",
       "       106.73565587,  86.42465669, 101.20957587, 139.8170482 ,\n",
       "        95.07748396, 145.38439672, 119.29088275,  99.40108396,\n",
       "        96.12467014,  94.34789238,  77.67489501, 102.89903414,\n",
       "        72.95677853,  74.35837977,  92.63329794, 119.57872933,\n",
       "        89.90269804, 113.19831739,  71.36102797,  77.17054157,\n",
       "       102.58338953,  58.02252704,  88.59067109, 105.96030187,\n",
       "        87.10966014,  86.32822405,  90.85199779, 100.62540822,\n",
       "       108.73852109, 141.17891196,  66.33758358,  85.73246437,\n",
       "        99.40267153, 123.02158174,  83.97432562,  75.06958558,\n",
       "        69.3917571 ,  88.92870046, 118.80077712,  80.75314961,\n",
       "       115.6509207 , 110.57096564,  53.92860428,  54.83329921,\n",
       "       130.98136235, 104.49402526,  70.43763789, 123.96558626,\n",
       "       105.22611625, 125.45912747,  66.08673308, 109.22692889,\n",
       "       104.2667043 ,  75.55005868, 105.02497481,  63.71386784,\n",
       "       127.26122948,  98.21009529, 127.68952432,  91.61241684,\n",
       "       111.434478  , 103.34405349, 110.37978892, 115.6922114 ,\n",
       "        74.87222881, 134.05770974,  91.05101856, 112.63801123,\n",
       "        79.29917843, 122.51875722, 140.63271537, 108.60200649,\n",
       "       115.35354127, 110.94361034, 130.69585063, 112.65299686,\n",
       "       111.07667098, 113.33074393, 107.71107189,  81.54943409,\n",
       "       102.03461677, 118.14196938, 125.7170578 ,  83.45866125,\n",
       "        66.82581793,  91.33601358, 143.14943546,  85.72442862,\n",
       "        61.24987072,  90.11507198,  83.96065444, 143.8514719 ,\n",
       "       119.89367144, 141.30454872, 119.88553617,  66.28205249,\n",
       "       117.68133386,  96.72987971, 121.34940534, 124.39679565,\n",
       "       100.41080067, 115.78422225, 102.71265034,  85.96807812,\n",
       "        75.07232316, 109.30814771, 108.57242753, 137.97979632,\n",
       "       119.1219904 ,  94.62331812, 117.51754812,  86.6897473 ,\n",
       "        94.17240315,  89.69685547, 107.72419697,  98.29585117,\n",
       "        71.59744312,  89.13057676, 117.63598175, 135.25597049,\n",
       "        85.08915824, 101.70829733, 126.73428655, 102.44617372,\n",
       "        92.85817466,  90.30744265, 136.95401465, 115.47515139,\n",
       "       105.65388683,  84.01852292, 135.07335473, 126.87864623,\n",
       "        98.94199783, 143.02337182,  64.95343462, 136.03539217,\n",
       "        91.67879264,  94.59391317, 113.08290058, 119.32553327,\n",
       "       100.36389019,  81.33412052, 119.48794781, 112.00970524,\n",
       "       106.78163935, 145.13753862, 112.34741483,  89.56587224,\n",
       "       124.34016969,  60.93435223, 130.75063309,  98.16950444,\n",
       "        78.5243482 ,  82.90035735,  69.17254694, 119.09030653,\n",
       "       106.81859703, 117.3840431 , 122.80185246, 100.28640075,\n",
       "       120.46505642,  83.13779015, 125.3566614 ,  85.16761885,\n",
       "        72.48606327, 109.02844554, 103.55730508,  75.66925738,\n",
       "       119.52863269, 115.39355144, 119.90635818,  75.64581188,\n",
       "        83.67257687,  37.16745198, 103.21317265,  91.70901374,\n",
       "       102.57699431,  94.06184119, 113.96692581, 119.67442607,\n",
       "       117.17729971, 126.64448596, 119.63554215,  74.39971682,\n",
       "        73.48871248,  84.72474495,  72.52822968, 130.48506253,\n",
       "       114.43721471,  91.14768561,  81.33909256,  94.90411611,\n",
       "        71.9587893 ,  82.4256506 , 114.96320587,  83.81277452,\n",
       "        53.27269257, 129.47004726,  92.57255037, 150.48300739,\n",
       "       148.54576573, 102.77451405,  59.51202522, 109.88833048,\n",
       "        84.7175841 ,  86.56706294, 106.65092702, 119.35408399,\n",
       "        99.74810019, 104.52701751, 124.71956255,  82.30848489,\n",
       "       130.60210852,  91.80965708, 100.80722714, 114.10579247,\n",
       "        87.88386609,  80.34030709,  94.43832852,  80.22084574,\n",
       "        74.37936542, 120.86603455, 118.88645758,  71.71633494,\n",
       "       142.25946259, 149.27094741,  90.50629062, 104.95722487,\n",
       "       126.10914965,  89.05941498, 106.67857524,  92.26505287])"
      ]
     },
     "execution_count": 10,
     "metadata": {},
     "output_type": "execute_result"
    }
   ],
   "source": [
    "# 범위(range)와 사분위 범위(IQR) 계산\n",
    "# 정규 분포로부터 무작위 샘플 만들기\n",
    "x = np.random.normal(100,20,size = 1000) # 평균 100, 분산 20, 개수 1000개\n",
    "x"
   ]
  },
  {
   "cell_type": "code",
   "execution_count": 11,
   "id": "dde7fbef",
   "metadata": {},
   "outputs": [
    {
     "name": "stdout",
     "output_type": "stream",
     "text": [
      "139.5749751354316\n",
      "139.5749751354316\n"
     ]
    }
   ],
   "source": [
    "print(np.ptp(x)) # 아래 코드와 같은 기능이니, ptp 함수 사용하기\n",
    "print(np.max(x)-np.min(x)) "
   ]
  },
  {
   "cell_type": "code",
   "execution_count": 12,
   "id": "2212e104",
   "metadata": {},
   "outputs": [
    {
     "name": "stdout",
     "output_type": "stream",
     "text": [
      "27.912163471141398\n",
      "27.912163471141398\n"
     ]
    }
   ],
   "source": [
    "print(np.quantile(x, 0.75) - np.quantile(x,0.25)) # 3사분위수(전체 데이터 중 백분위 75%에 해당하는 위치) - 1사분위수\n",
    "                                                  # 1이면 100%를 의미\n",
    "print(iqr(x))  # 위 코드와 같은 기능이니 iqr 함수 사용하기"
   ]
  },
  {
   "cell_type": "markdown",
   "id": "2da88035",
   "metadata": {},
   "source": [
    "# 분포 통계량"
   ]
  },
  {
   "cell_type": "code",
   "execution_count": 13,
   "id": "a8d1c0bd",
   "metadata": {},
   "outputs": [
    {
     "name": "stdout",
     "output_type": "stream",
     "text": [
      "분산:  662\n",
      "표준편차:  25.73\n",
      "범위:  79\n",
      "사분위수: \n",
      "0% => 9.0\n",
      "25% => 42.75\n",
      "50% => 64.5\n",
      "75% => 84.0\n",
      "100% => 88.0\n",
      "IQR:  41.25\n"
     ]
    }
   ],
   "source": [
    "# 분산, 표준편차, 범위, 사분위수, IQR 구하기\n",
    "from statistics import variance, stdev\n",
    "np.random.seed(0)\n",
    "points = np.random.randint(0,100,20)\n",
    "var = variance(points) ; print(\"분산: \", var)\n",
    "std = stdev(points) ; print(\"표준편차: \", np.round(std, 2))\n",
    "range = np.max(points) - np.min(points) ; print(\"범위: \", range)\n",
    "print(\"사분위수: \")\n",
    "# 리스트 형태로 정해진 숫자를 하나씩 넣어 for문 돌리는 것 많이 쓰임\n",
    "for val in [0,25,50,75,100]:\n",
    "    quantile = np.percentile(points, val) # 백분위수: np.percentile(x,q) -> q는 위치로 0~100\n",
    "    print(\"{}% => {}\".format(val, quantile)) # 사분위수: np.quantile(x,q) -> q는 0~1\n",
    "\n",
    "q1, q3 = np.percentile(points,[25,75])\n",
    "print(\"IQR: \", q3 - q1)"
   ]
  },
  {
   "cell_type": "code",
   "execution_count": 14,
   "id": "1110f02d",
   "metadata": {},
   "outputs": [
    {
     "data": {
      "text/plain": [
       "array([ 1,  2,  3,  4,  5,  6,  7,  8,  9, 10, 11])"
      ]
     },
     "execution_count": 14,
     "metadata": {},
     "output_type": "execute_result"
    }
   ],
   "source": [
    "# 백분위수 및 사분위수 계산\n",
    "x = np.arange(1,12,1)\n",
    "x"
   ]
  },
  {
   "cell_type": "code",
   "execution_count": 15,
   "id": "7bf926af",
   "metadata": {},
   "outputs": [
    {
     "name": "stdout",
     "output_type": "stream",
     "text": [
      "3.0\n",
      "3.0\n"
     ]
    }
   ],
   "source": [
    "print(np.percentile(x,20))\n",
    "print(np.quantile(x,0.2)) # 두 코드는 사실상 같음"
   ]
  },
  {
   "cell_type": "code",
   "execution_count": 16,
   "id": "f40a480d",
   "metadata": {},
   "outputs": [
    {
     "name": "stdout",
     "output_type": "stream",
     "text": [
      "3.5\n",
      "3.5\n"
     ]
    }
   ],
   "source": [
    "print(np.percentile(x,25))\n",
    "print(np.quantile(x,0.25)) # 두 코드는 사실상 같음"
   ]
  },
  {
   "cell_type": "code",
   "execution_count": 17,
   "id": "09a91fa0",
   "metadata": {},
   "outputs": [
    {
     "name": "stdout",
     "output_type": "stream",
     "text": [
      "Requirement already satisfied: matplotlib in ./MLvenv/lib/python3.8/site-packages (3.4.3)\n",
      "Requirement already satisfied: pillow>=6.2.0 in ./MLvenv/lib/python3.8/site-packages (from matplotlib) (8.3.2)\n",
      "Requirement already satisfied: kiwisolver>=1.0.1 in ./MLvenv/lib/python3.8/site-packages (from matplotlib) (1.3.2)\n",
      "Requirement already satisfied: pyparsing>=2.2.1 in ./MLvenv/lib/python3.8/site-packages (from matplotlib) (2.4.7)\n",
      "Requirement already satisfied: cycler>=0.10 in ./MLvenv/lib/python3.8/site-packages (from matplotlib) (0.10.0)\n",
      "Requirement already satisfied: numpy>=1.16 in ./MLvenv/lib/python3.8/site-packages (from matplotlib) (1.21.2)\n",
      "Requirement already satisfied: python-dateutil>=2.7 in ./MLvenv/lib/python3.8/site-packages (from matplotlib) (2.8.2)\n",
      "Requirement already satisfied: six in ./MLvenv/lib/python3.8/site-packages (from cycler>=0.10->matplotlib) (1.16.0)\n"
     ]
    }
   ],
   "source": [
    "# 왜도 계산 \n",
    "!pip3.8 install matplotlib"
   ]
  },
  {
   "cell_type": "code",
   "execution_count": 18,
   "id": "9b958d3f",
   "metadata": {},
   "outputs": [
    {
     "data": {
      "text/plain": [
       "[1,\n",
       " 1,\n",
       " 1,\n",
       " 1,\n",
       " 1,\n",
       " 1,\n",
       " 1,\n",
       " 1,\n",
       " 1,\n",
       " 1,\n",
       " 1,\n",
       " 1,\n",
       " 1,\n",
       " 1,\n",
       " 1,\n",
       " 1,\n",
       " 1,\n",
       " 1,\n",
       " 1,\n",
       " 1,\n",
       " 1,\n",
       " 1,\n",
       " 1,\n",
       " 1,\n",
       " 1,\n",
       " 1,\n",
       " 1,\n",
       " 1,\n",
       " 1,\n",
       " 1,\n",
       " 2,\n",
       " 2,\n",
       " 2,\n",
       " 2,\n",
       " 2,\n",
       " 2,\n",
       " 2,\n",
       " 2,\n",
       " 2,\n",
       " 2,\n",
       " 2,\n",
       " 2,\n",
       " 2,\n",
       " 2,\n",
       " 2,\n",
       " 2,\n",
       " 2,\n",
       " 2,\n",
       " 2,\n",
       " 2,\n",
       " 3,\n",
       " 3,\n",
       " 3,\n",
       " 3,\n",
       " 3,\n",
       " 3,\n",
       " 3,\n",
       " 3,\n",
       " 3,\n",
       " 3,\n",
       " 3,\n",
       " 3,\n",
       " 3,\n",
       " 3,\n",
       " 3,\n",
       " 3,\n",
       " 3,\n",
       " 3,\n",
       " 3,\n",
       " 3,\n",
       " 4,\n",
       " 4,\n",
       " 4,\n",
       " 4,\n",
       " 4,\n",
       " 4,\n",
       " 4,\n",
       " 4,\n",
       " 4,\n",
       " 4,\n",
       " 4,\n",
       " 4,\n",
       " 4,\n",
       " 4,\n",
       " 4,\n",
       " 5,\n",
       " 5,\n",
       " 5,\n",
       " 5,\n",
       " 5,\n",
       " 5,\n",
       " 5,\n",
       " 5,\n",
       " 5,\n",
       " 5,\n",
       " 5,\n",
       " 5,\n",
       " 5,\n",
       " 5,\n",
       " 5]"
      ]
     },
     "execution_count": 18,
     "metadata": {},
     "output_type": "execute_result"
    }
   ],
   "source": [
    "# matplotlib inline\n",
    "from matplotlib import pyplot as plt\n",
    "x1 = [1] * 30 + [2] * 20 + [3] * 20 + [4] * 15 + [5] * 15 # 좌측으로 치우침\n",
    "x2 = [1] * 15 + [2] * 20 + [3] * 30 + [4] * 20 + [5] * 15 # 치우치지 않음\n",
    "x3 = [1] * 15 + [2] * 15 + [3] * 20 + [4] * 20 + [5] * 30 # 우측으로 치우침\n",
    "\n",
    "x1"
   ]
  },
  {
   "cell_type": "code",
   "execution_count": 19,
   "id": "943d8e99",
   "metadata": {},
   "outputs": [
    {
     "data": {
      "text/plain": [
       "1    30\n",
       "2    20\n",
       "3    20\n",
       "4    15\n",
       "5    15\n",
       "dtype: int64"
      ]
     },
     "execution_count": 19,
     "metadata": {},
     "output_type": "execute_result"
    }
   ],
   "source": [
    "pd.Series(x1).value_counts(sort=False)"
   ]
  },
  {
   "cell_type": "code",
   "execution_count": 20,
   "id": "dd2dde67",
   "metadata": {},
   "outputs": [
    {
     "data": {
      "text/plain": [
       "<AxesSubplot:>"
      ]
     },
     "execution_count": 20,
     "metadata": {},
     "output_type": "execute_result"
    },
    {
     "data": {
      "image/png": "[encoded data removed]",
      "text/plain": [
       "<Figure size 432x288 with 1 Axes>"
      ]
     },
     "metadata": {
      "needs_background": "light"
     },
     "output_type": "display_data"
    }
   ],
   "source": [
    "pd.Series(x1).value_counts(sort=False).plot(kind = 'bar')"
   ]
  },
  {
   "cell_type": "code",
   "execution_count": 21,
   "id": "aad8f2d1",
   "metadata": {},
   "outputs": [
    {
     "data": {
      "text/plain": [
       "<AxesSubplot:>"
      ]
     },
     "execution_count": 21,
     "metadata": {},
     "output_type": "execute_result"
    },
    {
     "data": {
      "image/png": "[encoded data removed]",
      "text/plain": [
       "<Figure size 432x288 with 1 Axes>"
      ]
     },
     "metadata": {
      "needs_background": "light"
     },
     "output_type": "display_data"
    }
   ],
   "source": [
    "pd.Series(x3).value_counts(sort = False).plot(kind = 'bar')"
   ]
  },
  {
   "cell_type": "code",
   "execution_count": 22,
   "id": "b01f31fd",
   "metadata": {},
   "outputs": [
    {
     "name": "stdout",
     "output_type": "stream",
     "text": [
      "좌로 치우쳤을 때 왜도: 0.3192801008486361\n",
      "치우치지 않았을 때 왜도: 0.0\n",
      "우로 치우친 왜도: -0.31928010084863606\n"
     ]
    }
   ],
   "source": [
    "# 왜도의 절댓값이 1.5 이상이면 좌 or 우로 치우쳤다고 봄\n",
    "print(\"좌로 치우쳤을 때 왜도:\", skew(x1))\n",
    "print(\"치우치지 않았을 때 왜도:\", skew(x2))\n",
    "print(\"우로 치우친 왜도:\", skew(x3))    "
   ]
  },
  {
   "cell_type": "code",
   "execution_count": 23,
   "id": "c42244eb",
   "metadata": {},
   "outputs": [],
   "source": [
    "# 첨도 계산\n",
    "x1 = [1] * 20 + [2] * 20 + [3] * 20 + [4] * 20 + [5] * 20 # 전혀 뾰족하지 않음(flat)\n",
    "x2 = [1] * 10 + [2] * 20 + [3] * 40 + [4] * 20 + [5] * 10 # 조금 뾰족\n",
    "x3 = [1] * 5 + [2] * 15 + [3] * 60 + [4] * 15 + [5] * 5 # 매우 뾰족"
   ]
  },
  {
   "cell_type": "code",
   "execution_count": 24,
   "id": "3600c115",
   "metadata": {},
   "outputs": [
    {
     "data": {
      "text/plain": [
       "<AxesSubplot:>"
      ]
     },
     "execution_count": 24,
     "metadata": {},
     "output_type": "execute_result"
    },
    {
     "data": {
      "image/png": "[encoded data removed]",
      "text/plain": [
       "<Figure size 432x288 with 1 Axes>"
      ]
     },
     "metadata": {
      "needs_background": "light"
     },
     "output_type": "display_data"
    }
   ],
   "source": [
    "pd.Series(x1).value_counts(sort = False).plot(kind = 'line')"
   ]
  },
  {
   "cell_type": "code",
   "execution_count": 25,
   "id": "a8acc9e5",
   "metadata": {},
   "outputs": [
    {
     "data": {
      "text/plain": [
       "<AxesSubplot:>"
      ]
     },
     "execution_count": 25,
     "metadata": {},
     "output_type": "execute_result"
    },
    {
     "data": {
      "image/png": "[encoded data removed]",
      "text/plain": [
       "<Figure size 432x288 with 1 Axes>"
      ]
     },
     "metadata": {
      "needs_background": "light"
     },
     "output_type": "display_data"
    }
   ],
   "source": [
    "pd.Series(x2).value_counts(sort = False).plot(kind = 'line')"
   ]
  },
  {
   "cell_type": "code",
   "execution_count": 26,
   "id": "a86e5f48",
   "metadata": {},
   "outputs": [
    {
     "data": {
      "text/plain": [
       "<AxesSubplot:>"
      ]
     },
     "execution_count": 26,
     "metadata": {},
     "output_type": "execute_result"
    },
    {
     "data": {
      "image/png": "[encoded data removed]",
      "text/plain": [
       "<Figure size 432x288 with 1 Axes>"
      ]
     },
     "metadata": {
      "needs_background": "light"
     },
     "output_type": "display_data"
    }
   ],
   "source": [
    "pd.Series(x3).value_counts(sort = False).plot(kind = 'line')"
   ]
  },
  {
   "cell_type": "code",
   "execution_count": 28,
   "id": "419491df",
   "metadata": {},
   "outputs": [
    {
     "name": "stdout",
     "output_type": "stream",
     "text": [
      "전혀 뾰족하지 않을 때 (평평할 때) 첨도: -1.3\n",
      "조금 뾰족할 때 첨도: -0.5\n",
      "매우 뾰족할 때 첨도: 0.8775510204081636\n"
     ]
    }
   ],
   "source": [
    "print(\"전혀 뾰족하지 않을 때 (평평할 때) 첨도:\", kurtosis(x1))\n",
    "print(\"조금 뾰족할 때 첨도:\", kurtosis(x2))\n",
    "print(\"매우 뾰족할 때 첨도:\", kurtosis(x3))"
   ]
  }
 ],
 "metadata": {
  "kernelspec": {
   "display_name": "MLvenv",
   "language": "python",
   "name": "mlvenv"
  },
  "language_info": {
   "codemirror_mode": {
    "name": "ipython",
    "version": 3
   },
   "file_extension": ".py",
   "mimetype": "text/x-python",
   "name": "python",
   "nbconvert_exporter": "python",
   "pygments_lexer": "ipython3",
   "version": "3.8.0"
  }
 },
 "nbformat": 4,
 "nbformat_minor": 5
}
